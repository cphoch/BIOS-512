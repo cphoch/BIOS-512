{
 "cells": [
  {
   "cell_type": "markdown",
   "id": "4b1cd1f8-166a-4baf-9338-ea36040fc27f",
   "metadata": {},
   "source": [
    "# Dates"
   ]
  },
  {
   "cell_type": "code",
   "execution_count": 1,
   "id": "da5dfa39-b50f-4720-baaa-67e6edc494d9",
   "metadata": {
    "tags": []
   },
   "outputs": [
    {
     "name": "stderr",
     "output_type": "stream",
     "text": [
      "Warning message:\n",
      "“Failed to locate timezone database”\n",
      "── \u001b[1mAttaching core tidyverse packages\u001b[22m ──────────────────────── tidyverse 2.0.0 ──\n",
      "\u001b[32m✔\u001b[39m \u001b[34mdplyr    \u001b[39m 1.1.3     \u001b[32m✔\u001b[39m \u001b[34mreadr    \u001b[39m 2.1.4\n",
      "\u001b[32m✔\u001b[39m \u001b[34mforcats  \u001b[39m 1.0.0     \u001b[32m✔\u001b[39m \u001b[34mstringr  \u001b[39m 1.5.0\n",
      "\u001b[32m✔\u001b[39m \u001b[34mggplot2  \u001b[39m 3.4.3     \u001b[32m✔\u001b[39m \u001b[34mtibble   \u001b[39m 3.2.1\n",
      "\u001b[32m✔\u001b[39m \u001b[34mlubridate\u001b[39m 1.9.2     \u001b[32m✔\u001b[39m \u001b[34mtidyr    \u001b[39m 1.3.0\n",
      "\u001b[32m✔\u001b[39m \u001b[34mpurrr    \u001b[39m 1.0.2     \n",
      "── \u001b[1mConflicts\u001b[22m ────────────────────────────────────────── tidyverse_conflicts() ──\n",
      "\u001b[31m✖\u001b[39m \u001b[34mdplyr\u001b[39m::\u001b[32mfilter()\u001b[39m masks \u001b[34mstats\u001b[39m::filter()\n",
      "\u001b[31m✖\u001b[39m \u001b[34mdplyr\u001b[39m::\u001b[32mlag()\u001b[39m    masks \u001b[34mstats\u001b[39m::lag()\n",
      "\u001b[36mℹ\u001b[39m Use the conflicted package (\u001b[3m\u001b[34m<http://conflicted.r-lib.org/>\u001b[39m\u001b[23m) to force all conflicts to become errors\n"
     ]
    }
   ],
   "source": [
    "library('tidyverse')\n",
    "library('lubridate')"
   ]
  },
  {
   "cell_type": "code",
   "execution_count": 2,
   "id": "d9eb900e-35fc-4505-bff5-ad335a3c84be",
   "metadata": {
    "tags": []
   },
   "outputs": [],
   "source": [
    "date = '2021-05-04'"
   ]
  },
  {
   "cell_type": "code",
   "execution_count": 3,
   "id": "6599dc33-75e3-4a95-8d2a-7d7a8553e0bb",
   "metadata": {
    "tags": []
   },
   "outputs": [
    {
     "data": {
      "text/html": [
       "<time datetime=\"2021-05-04\">2021-05-04</time>"
      ],
      "text/latex": [
       "2021-05-04"
      ],
      "text/markdown": [
       "2021-05-04"
      ],
      "text/plain": [
       "[1] \"2021-05-04\""
      ]
     },
     "metadata": {},
     "output_type": "display_data"
    }
   ],
   "source": [
    "ymd(date)"
   ]
  },
  {
   "cell_type": "code",
   "execution_count": 5,
   "id": "3da4074e-9dc6-4cb5-b694-c96e80ec1b5b",
   "metadata": {
    "tags": []
   },
   "outputs": [
    {
     "data": {
      "text/html": [
       "<table class=\"dataframe\">\n",
       "<caption>A tibble: 3 × 2</caption>\n",
       "<thead>\n",
       "\t<tr><th scope=col>colA</th><th scope=col>colB</th></tr>\n",
       "\t<tr><th scope=col>&lt;chr&gt;</th><th scope=col>&lt;dbl&gt;</th></tr>\n",
       "</thead>\n",
       "<tbody>\n",
       "\t<tr><td>2021-01-01</td><td>1</td></tr>\n",
       "\t<tr><td>2022-01-01</td><td>2</td></tr>\n",
       "\t<tr><td>2023-01-01</td><td>3</td></tr>\n",
       "</tbody>\n",
       "</table>\n"
      ],
      "text/latex": [
       "A tibble: 3 × 2\n",
       "\\begin{tabular}{ll}\n",
       " colA & colB\\\\\n",
       " <chr> & <dbl>\\\\\n",
       "\\hline\n",
       "\t 2021-01-01 & 1\\\\\n",
       "\t 2022-01-01 & 2\\\\\n",
       "\t 2023-01-01 & 3\\\\\n",
       "\\end{tabular}\n"
      ],
      "text/markdown": [
       "\n",
       "A tibble: 3 × 2\n",
       "\n",
       "| colA &lt;chr&gt; | colB &lt;dbl&gt; |\n",
       "|---|---|\n",
       "| 2021-01-01 | 1 |\n",
       "| 2022-01-01 | 2 |\n",
       "| 2023-01-01 | 3 |\n",
       "\n"
      ],
      "text/plain": [
       "  colA       colB\n",
       "1 2021-01-01 1   \n",
       "2 2022-01-01 2   \n",
       "3 2023-01-01 3   "
      ]
     },
     "metadata": {},
     "output_type": "display_data"
    }
   ],
   "source": [
    "df = tribble(\n",
    "    ~colA, ~colB,\n",
    "    '2021-01-01', 1,\n",
    "    '2022-01-01', 2,\n",
    "    '2023-01-01', 3,\n",
    ")\n",
    "\n",
    "df"
   ]
  },
  {
   "cell_type": "code",
   "execution_count": 6,
   "id": "e67f1e0b-b2ea-4c2f-ae9e-bfe8d729a332",
   "metadata": {
    "tags": []
   },
   "outputs": [
    {
     "data": {
      "text/html": [
       "<table class=\"dataframe\">\n",
       "<caption>A tibble: 3 × 2</caption>\n",
       "<thead>\n",
       "\t<tr><th scope=col>colA</th><th scope=col>colB</th></tr>\n",
       "\t<tr><th scope=col>&lt;date&gt;</th><th scope=col>&lt;dbl&gt;</th></tr>\n",
       "</thead>\n",
       "<tbody>\n",
       "\t<tr><td>2021-01-01</td><td>1</td></tr>\n",
       "\t<tr><td>2022-01-01</td><td>2</td></tr>\n",
       "\t<tr><td>2023-01-01</td><td>3</td></tr>\n",
       "</tbody>\n",
       "</table>\n"
      ],
      "text/latex": [
       "A tibble: 3 × 2\n",
       "\\begin{tabular}{ll}\n",
       " colA & colB\\\\\n",
       " <date> & <dbl>\\\\\n",
       "\\hline\n",
       "\t 2021-01-01 & 1\\\\\n",
       "\t 2022-01-01 & 2\\\\\n",
       "\t 2023-01-01 & 3\\\\\n",
       "\\end{tabular}\n"
      ],
      "text/markdown": [
       "\n",
       "A tibble: 3 × 2\n",
       "\n",
       "| colA &lt;date&gt; | colB &lt;dbl&gt; |\n",
       "|---|---|\n",
       "| 2021-01-01 | 1 |\n",
       "| 2022-01-01 | 2 |\n",
       "| 2023-01-01 | 3 |\n",
       "\n"
      ],
      "text/plain": [
       "  colA       colB\n",
       "1 2021-01-01 1   \n",
       "2 2022-01-01 2   \n",
       "3 2023-01-01 3   "
      ]
     },
     "metadata": {},
     "output_type": "display_data"
    }
   ],
   "source": [
    "df |> mutate(colA = ymd(colA))"
   ]
  },
  {
   "cell_type": "code",
   "execution_count": 7,
   "id": "f76bdb78-5da0-4f4e-8172-1d8f7315648c",
   "metadata": {
    "tags": []
   },
   "outputs": [
    {
     "data": {
      "text/html": [
       "<table class=\"dataframe\">\n",
       "<caption>A tibble: 3 × 2</caption>\n",
       "<thead>\n",
       "\t<tr><th scope=col>colA</th><th scope=col>colB</th></tr>\n",
       "\t<tr><th scope=col>&lt;date&gt;</th><th scope=col>&lt;dbl&gt;</th></tr>\n",
       "</thead>\n",
       "<tbody>\n",
       "\t<tr><td>2021-01-01</td><td>1</td></tr>\n",
       "\t<tr><td>2022-01-01</td><td>2</td></tr>\n",
       "\t<tr><td>2023-01-01</td><td>3</td></tr>\n",
       "</tbody>\n",
       "</table>\n"
      ],
      "text/latex": [
       "A tibble: 3 × 2\n",
       "\\begin{tabular}{ll}\n",
       " colA & colB\\\\\n",
       " <date> & <dbl>\\\\\n",
       "\\hline\n",
       "\t 2021-01-01 & 1\\\\\n",
       "\t 2022-01-01 & 2\\\\\n",
       "\t 2023-01-01 & 3\\\\\n",
       "\\end{tabular}\n"
      ],
      "text/markdown": [
       "\n",
       "A tibble: 3 × 2\n",
       "\n",
       "| colA &lt;date&gt; | colB &lt;dbl&gt; |\n",
       "|---|---|\n",
       "| 2021-01-01 | 1 |\n",
       "| 2022-01-01 | 2 |\n",
       "| 2023-01-01 | 3 |\n",
       "\n"
      ],
      "text/plain": [
       "  colA       colB\n",
       "1 2021-01-01 1   \n",
       "2 2022-01-01 2   \n",
       "3 2023-01-01 3   "
      ]
     },
     "metadata": {},
     "output_type": "display_data"
    }
   ],
   "source": [
    "df |> mutate(colA = parse_date(colA, format = '%Y-%m-%d'))"
   ]
  },
  {
   "cell_type": "markdown",
   "id": "03e8266f-eea7-4e8f-8d6c-783caefbdf0e",
   "metadata": {},
   "source": [
    "# Reading in dates"
   ]
  },
  {
   "cell_type": "code",
   "execution_count": 12,
   "id": "4dbe8290-e96e-4898-9b12-4d26fc72dd82",
   "metadata": {
    "tags": []
   },
   "outputs": [
    {
     "data": {
      "text/html": [
       "<table class=\"dataframe\">\n",
       "<caption>A tibble: 6 × 5</caption>\n",
       "<thead>\n",
       "\t<tr><th scope=col>Year</th><th scope=col>Month</th><th scope=col>Day</th><th scope=col>species_code</th><th scope=col>how_many</th></tr>\n",
       "\t<tr><th scope=col>&lt;date&gt;</th><th scope=col>&lt;dbl&gt;</th><th scope=col>&lt;dbl&gt;</th><th scope=col>&lt;chr&gt;</th><th scope=col>&lt;dbl&gt;</th></tr>\n",
       "</thead>\n",
       "<tbody>\n",
       "\t<tr><td>2021-01-01</td><td> 3</td><td> 4</td><td>amegfi</td><td>20</td></tr>\n",
       "\t<tr><td>2020-01-01</td><td>12</td><td>19</td><td>moudov</td><td>11</td></tr>\n",
       "\t<tr><td>2021-01-01</td><td> 2</td><td>13</td><td>tuftit</td><td> 2</td></tr>\n",
       "\t<tr><td>2021-01-01</td><td> 1</td><td>13</td><td>houspa</td><td> 2</td></tr>\n",
       "\t<tr><td>2021-01-01</td><td> 1</td><td>11</td><td>balori</td><td>10</td></tr>\n",
       "\t<tr><td>2021-01-01</td><td> 3</td><td>13</td><td>norcar</td><td> 2</td></tr>\n",
       "</tbody>\n",
       "</table>\n"
      ],
      "text/latex": [
       "A tibble: 6 × 5\n",
       "\\begin{tabular}{lllll}\n",
       " Year & Month & Day & species\\_code & how\\_many\\\\\n",
       " <date> & <dbl> & <dbl> & <chr> & <dbl>\\\\\n",
       "\\hline\n",
       "\t 2021-01-01 &  3 &  4 & amegfi & 20\\\\\n",
       "\t 2020-01-01 & 12 & 19 & moudov & 11\\\\\n",
       "\t 2021-01-01 &  2 & 13 & tuftit &  2\\\\\n",
       "\t 2021-01-01 &  1 & 13 & houspa &  2\\\\\n",
       "\t 2021-01-01 &  1 & 11 & balori & 10\\\\\n",
       "\t 2021-01-01 &  3 & 13 & norcar &  2\\\\\n",
       "\\end{tabular}\n"
      ],
      "text/markdown": [
       "\n",
       "A tibble: 6 × 5\n",
       "\n",
       "| Year &lt;date&gt; | Month &lt;dbl&gt; | Day &lt;dbl&gt; | species_code &lt;chr&gt; | how_many &lt;dbl&gt; |\n",
       "|---|---|---|---|---|\n",
       "| 2021-01-01 |  3 |  4 | amegfi | 20 |\n",
       "| 2020-01-01 | 12 | 19 | moudov | 11 |\n",
       "| 2021-01-01 |  2 | 13 | tuftit |  2 |\n",
       "| 2021-01-01 |  1 | 13 | houspa |  2 |\n",
       "| 2021-01-01 |  1 | 11 | balori | 10 |\n",
       "| 2021-01-01 |  3 | 13 | norcar |  2 |\n",
       "\n"
      ],
      "text/plain": [
       "  Year       Month Day species_code how_many\n",
       "1 2021-01-01  3     4  amegfi       20      \n",
       "2 2020-01-01 12    19  moudov       11      \n",
       "3 2021-01-01  2    13  tuftit        2      \n",
       "4 2021-01-01  1    13  houspa        2      \n",
       "5 2021-01-01  1    11  balori       10      \n",
       "6 2021-01-01  3    13  norcar        2      "
      ]
     },
     "metadata": {},
     "output_type": "display_data"
    }
   ],
   "source": [
    "bird_feeder_data = read_csv('https://raw.githubusercontent.com/rfordatascience/tidytuesday/master/data/2023/2023-01-10/PFW_2021_public.csv',\n",
    "                           col_types = cols(Year = col_date('%Y')))\n",
    "\n",
    "bird_feeder_data |>\n",
    "    select(Year, Month, Day, species_code, how_many) |>\n",
    "    head()"
   ]
  },
  {
   "cell_type": "code",
   "execution_count": 13,
   "id": "abc286d3-43df-4ee1-9b55-2a09d7c820b5",
   "metadata": {
    "tags": []
   },
   "outputs": [
    {
     "data": {
      "text/html": [
       "<table class=\"dataframe\">\n",
       "<caption>A tibble: 6 × 6</caption>\n",
       "<thead>\n",
       "\t<tr><th scope=col>Year</th><th scope=col>Month</th><th scope=col>Day</th><th scope=col>species_code</th><th scope=col>how_many</th><th scope=col>date</th></tr>\n",
       "\t<tr><th scope=col>&lt;dbl&gt;</th><th scope=col>&lt;dbl&gt;</th><th scope=col>&lt;dbl&gt;</th><th scope=col>&lt;chr&gt;</th><th scope=col>&lt;dbl&gt;</th><th scope=col>&lt;date&gt;</th></tr>\n",
       "</thead>\n",
       "<tbody>\n",
       "\t<tr><td>2021</td><td> 3</td><td> 4</td><td>amegfi</td><td>20</td><td>2021-03-04</td></tr>\n",
       "\t<tr><td>2020</td><td>12</td><td>19</td><td>moudov</td><td>11</td><td>2020-12-19</td></tr>\n",
       "\t<tr><td>2021</td><td> 2</td><td>13</td><td>tuftit</td><td> 2</td><td>2021-02-13</td></tr>\n",
       "\t<tr><td>2021</td><td> 1</td><td>13</td><td>houspa</td><td> 2</td><td>2021-01-13</td></tr>\n",
       "\t<tr><td>2021</td><td> 1</td><td>11</td><td>balori</td><td>10</td><td>2021-01-11</td></tr>\n",
       "\t<tr><td>2021</td><td> 3</td><td>13</td><td>norcar</td><td> 2</td><td>2021-03-13</td></tr>\n",
       "</tbody>\n",
       "</table>\n"
      ],
      "text/latex": [
       "A tibble: 6 × 6\n",
       "\\begin{tabular}{llllll}\n",
       " Year & Month & Day & species\\_code & how\\_many & date\\\\\n",
       " <dbl> & <dbl> & <dbl> & <chr> & <dbl> & <date>\\\\\n",
       "\\hline\n",
       "\t 2021 &  3 &  4 & amegfi & 20 & 2021-03-04\\\\\n",
       "\t 2020 & 12 & 19 & moudov & 11 & 2020-12-19\\\\\n",
       "\t 2021 &  2 & 13 & tuftit &  2 & 2021-02-13\\\\\n",
       "\t 2021 &  1 & 13 & houspa &  2 & 2021-01-13\\\\\n",
       "\t 2021 &  1 & 11 & balori & 10 & 2021-01-11\\\\\n",
       "\t 2021 &  3 & 13 & norcar &  2 & 2021-03-13\\\\\n",
       "\\end{tabular}\n"
      ],
      "text/markdown": [
       "\n",
       "A tibble: 6 × 6\n",
       "\n",
       "| Year &lt;dbl&gt; | Month &lt;dbl&gt; | Day &lt;dbl&gt; | species_code &lt;chr&gt; | how_many &lt;dbl&gt; | date &lt;date&gt; |\n",
       "|---|---|---|---|---|---|\n",
       "| 2021 |  3 |  4 | amegfi | 20 | 2021-03-04 |\n",
       "| 2020 | 12 | 19 | moudov | 11 | 2020-12-19 |\n",
       "| 2021 |  2 | 13 | tuftit |  2 | 2021-02-13 |\n",
       "| 2021 |  1 | 13 | houspa |  2 | 2021-01-13 |\n",
       "| 2021 |  1 | 11 | balori | 10 | 2021-01-11 |\n",
       "| 2021 |  3 | 13 | norcar |  2 | 2021-03-13 |\n",
       "\n"
      ],
      "text/plain": [
       "  Year Month Day species_code how_many date      \n",
       "1 2021  3     4  amegfi       20       2021-03-04\n",
       "2 2020 12    19  moudov       11       2020-12-19\n",
       "3 2021  2    13  tuftit        2       2021-02-13\n",
       "4 2021  1    13  houspa        2       2021-01-13\n",
       "5 2021  1    11  balori       10       2021-01-11\n",
       "6 2021  3    13  norcar        2       2021-03-13"
      ]
     },
     "metadata": {},
     "output_type": "display_data"
    }
   ],
   "source": [
    "bird_feeder_data = read_csv('https://raw.githubusercontent.com/rfordatascience/tidytuesday/master/data/2023/2023-01-10/PFW_2021_public.csv',\n",
    "                           col_types = cols()) |>\n",
    "    select(Year, Month, Day, species_code, how_many) |>\n",
    "    mutate(date = make_date(Year, Month, Day))\n",
    "\n",
    "bird_feeder_data |> head()"
   ]
  },
  {
   "cell_type": "code",
   "execution_count": 35,
   "id": "f18f4aaa-6271-468f-911a-22555861f4a2",
   "metadata": {
    "tags": []
   },
   "outputs": [
    {
     "data": {
      "text/html": [
       "<table class=\"dataframe\">\n",
       "<caption>A tibble: 6 × 2</caption>\n",
       "<thead>\n",
       "\t<tr><th scope=col>species_code</th><th scope=col>n</th></tr>\n",
       "\t<tr><th scope=col>&lt;fct&gt;</th><th scope=col>&lt;dbl&gt;</th></tr>\n",
       "</thead>\n",
       "<tbody>\n",
       "\t<tr><td>daejun</td><td>31103</td></tr>\n",
       "\t<tr><td>houspa</td><td>28491</td></tr>\n",
       "\t<tr><td>moudov</td><td>26436</td></tr>\n",
       "\t<tr><td>amegfi</td><td>23971</td></tr>\n",
       "\t<tr><td>houfin</td><td>23130</td></tr>\n",
       "\t<tr><td>norcar</td><td>18419</td></tr>\n",
       "</tbody>\n",
       "</table>\n"
      ],
      "text/latex": [
       "A tibble: 6 × 2\n",
       "\\begin{tabular}{ll}\n",
       " species\\_code & n\\\\\n",
       " <fct> & <dbl>\\\\\n",
       "\\hline\n",
       "\t daejun & 31103\\\\\n",
       "\t houspa & 28491\\\\\n",
       "\t moudov & 26436\\\\\n",
       "\t amegfi & 23971\\\\\n",
       "\t houfin & 23130\\\\\n",
       "\t norcar & 18419\\\\\n",
       "\\end{tabular}\n"
      ],
      "text/markdown": [
       "\n",
       "A tibble: 6 × 2\n",
       "\n",
       "| species_code &lt;fct&gt; | n &lt;dbl&gt; |\n",
       "|---|---|\n",
       "| daejun | 31103 |\n",
       "| houspa | 28491 |\n",
       "| moudov | 26436 |\n",
       "| amegfi | 23971 |\n",
       "| houfin | 23130 |\n",
       "| norcar | 18419 |\n",
       "\n"
      ],
      "text/plain": [
       "  species_code n    \n",
       "1 daejun       31103\n",
       "2 houspa       28491\n",
       "3 moudov       26436\n",
       "4 amegfi       23971\n",
       "5 houfin       23130\n",
       "6 norcar       18419"
      ]
     },
     "metadata": {},
     "output_type": "display_data"
    }
   ],
   "source": [
    "species_code_count = bird_feeder_data |>\n",
    "    count(species_code, wt = how_many) |>\n",
    "    arrange(desc(n)) |>\n",
    "    mutate(species_code = fct_inorder(species_code) |> fct_rev())\n",
    "\n",
    "species_code_count |> head()"
   ]
  },
  {
   "cell_type": "code",
   "execution_count": 36,
   "id": "4d6a0f49-7cb1-4511-af7c-e6de08df114a",
   "metadata": {
    "tags": []
   },
   "outputs": [
    {
     "data": {
      "text/html": [
       "<table class=\"dataframe\">\n",
       "<caption>A tibble: 10 × 2</caption>\n",
       "<thead>\n",
       "\t<tr><th scope=col>species_code</th><th scope=col>n</th></tr>\n",
       "\t<tr><th scope=col>&lt;fct&gt;</th><th scope=col>&lt;dbl&gt;</th></tr>\n",
       "</thead>\n",
       "<tbody>\n",
       "\t<tr><td>daejun</td><td>31103</td></tr>\n",
       "\t<tr><td>houspa</td><td>28491</td></tr>\n",
       "\t<tr><td>moudov</td><td>26436</td></tr>\n",
       "\t<tr><td>amegfi</td><td>23971</td></tr>\n",
       "\t<tr><td>houfin</td><td>23130</td></tr>\n",
       "\t<tr><td>norcar</td><td>18419</td></tr>\n",
       "\t<tr><td>eursta</td><td>16630</td></tr>\n",
       "\t<tr><td>bkcchi</td><td>15614</td></tr>\n",
       "\t<tr><td>pinsis</td><td>15029</td></tr>\n",
       "\t<tr><td>blujay</td><td>14230</td></tr>\n",
       "</tbody>\n",
       "</table>\n"
      ],
      "text/latex": [
       "A tibble: 10 × 2\n",
       "\\begin{tabular}{ll}\n",
       " species\\_code & n\\\\\n",
       " <fct> & <dbl>\\\\\n",
       "\\hline\n",
       "\t daejun & 31103\\\\\n",
       "\t houspa & 28491\\\\\n",
       "\t moudov & 26436\\\\\n",
       "\t amegfi & 23971\\\\\n",
       "\t houfin & 23130\\\\\n",
       "\t norcar & 18419\\\\\n",
       "\t eursta & 16630\\\\\n",
       "\t bkcchi & 15614\\\\\n",
       "\t pinsis & 15029\\\\\n",
       "\t blujay & 14230\\\\\n",
       "\\end{tabular}\n"
      ],
      "text/markdown": [
       "\n",
       "A tibble: 10 × 2\n",
       "\n",
       "| species_code &lt;fct&gt; | n &lt;dbl&gt; |\n",
       "|---|---|\n",
       "| daejun | 31103 |\n",
       "| houspa | 28491 |\n",
       "| moudov | 26436 |\n",
       "| amegfi | 23971 |\n",
       "| houfin | 23130 |\n",
       "| norcar | 18419 |\n",
       "| eursta | 16630 |\n",
       "| bkcchi | 15614 |\n",
       "| pinsis | 15029 |\n",
       "| blujay | 14230 |\n",
       "\n"
      ],
      "text/plain": [
       "   species_code n    \n",
       "1  daejun       31103\n",
       "2  houspa       28491\n",
       "3  moudov       26436\n",
       "4  amegfi       23971\n",
       "5  houfin       23130\n",
       "6  norcar       18419\n",
       "7  eursta       16630\n",
       "8  bkcchi       15614\n",
       "9  pinsis       15029\n",
       "10 blujay       14230"
      ]
     },
     "metadata": {},
     "output_type": "display_data"
    }
   ],
   "source": [
    "top10_birds = species_code_count |>\n",
    "    slice_max(order_by = n, n = 10) # |>\n",
    "    # pull(species_code)\n",
    "\n",
    "top10_birds"
   ]
  },
  {
   "cell_type": "code",
   "execution_count": 37,
   "id": "65037416-0d56-4674-a892-ee49221df921",
   "metadata": {
    "tags": []
   },
   "outputs": [
    {
     "data": {
      "image/png": "[encoded data removed]",
      "text/plain": [
       "plot without title"
      ]
     },
     "metadata": {
      "image/png": {
       "height": 375,
       "width": 500
      }
     },
     "output_type": "display_data"
    }
   ],
   "source": [
    "options(repr.plot.res = 250, repr.plot.height = 3, repr.plot.width = 4)\n",
    "\n",
    "p = ggplot(top10_birds, aes(y = species_code, x = n)) +\n",
    "    geom_col() +\n",
    "    xlab('Count') +\n",
    "    ylab('Species')\n",
    "\n",
    "p"
   ]
  },
  {
   "cell_type": "code",
   "execution_count": 48,
   "id": "b57fd10a-9bd3-44f9-83ed-e69eabae9ab0",
   "metadata": {
    "tags": []
   },
   "outputs": [
    {
     "data": {
      "text/html": [
       "<table class=\"dataframe\">\n",
       "<caption>A tibble: 6 × 3</caption>\n",
       "<thead>\n",
       "\t<tr><th scope=col>date</th><th scope=col>species_code</th><th scope=col>how_many</th></tr>\n",
       "\t<tr><th scope=col>&lt;date&gt;</th><th scope=col>&lt;chr&gt;</th><th scope=col>&lt;dbl&gt;</th></tr>\n",
       "</thead>\n",
       "<tbody>\n",
       "\t<tr><td>2020-11-14</td><td>daejun</td><td>531</td></tr>\n",
       "\t<tr><td>2020-11-15</td><td>daejun</td><td>141</td></tr>\n",
       "\t<tr><td>2020-11-16</td><td>daejun</td><td>121</td></tr>\n",
       "\t<tr><td>2020-11-17</td><td>daejun</td><td>157</td></tr>\n",
       "\t<tr><td>2020-11-18</td><td>daejun</td><td> 70</td></tr>\n",
       "\t<tr><td>2020-11-19</td><td>daejun</td><td> 26</td></tr>\n",
       "</tbody>\n",
       "</table>\n"
      ],
      "text/latex": [
       "A tibble: 6 × 3\n",
       "\\begin{tabular}{lll}\n",
       " date & species\\_code & how\\_many\\\\\n",
       " <date> & <chr> & <dbl>\\\\\n",
       "\\hline\n",
       "\t 2020-11-14 & daejun & 531\\\\\n",
       "\t 2020-11-15 & daejun & 141\\\\\n",
       "\t 2020-11-16 & daejun & 121\\\\\n",
       "\t 2020-11-17 & daejun & 157\\\\\n",
       "\t 2020-11-18 & daejun &  70\\\\\n",
       "\t 2020-11-19 & daejun &  26\\\\\n",
       "\\end{tabular}\n"
      ],
      "text/markdown": [
       "\n",
       "A tibble: 6 × 3\n",
       "\n",
       "| date &lt;date&gt; | species_code &lt;chr&gt; | how_many &lt;dbl&gt; |\n",
       "|---|---|---|\n",
       "| 2020-11-14 | daejun | 531 |\n",
       "| 2020-11-15 | daejun | 141 |\n",
       "| 2020-11-16 | daejun | 121 |\n",
       "| 2020-11-17 | daejun | 157 |\n",
       "| 2020-11-18 | daejun |  70 |\n",
       "| 2020-11-19 | daejun |  26 |\n",
       "\n"
      ],
      "text/plain": [
       "  date       species_code how_many\n",
       "1 2020-11-14 daejun       531     \n",
       "2 2020-11-15 daejun       141     \n",
       "3 2020-11-16 daejun       121     \n",
       "4 2020-11-17 daejun       157     \n",
       "5 2020-11-18 daejun        70     \n",
       "6 2020-11-19 daejun        26     "
      ]
     },
     "metadata": {},
     "output_type": "display_data"
    }
   ],
   "source": [
    "top_bird = bird_feeder_data |>\n",
    "    filter(species_code == 'daejun') |>\n",
    "    group_by(date, species_code) |>\n",
    "    summarize(how_many = sum(how_many), .groups = 'drop')\n",
    "\n",
    "top_bird |> head()"
   ]
  },
  {
   "cell_type": "code",
   "execution_count": 64,
   "id": "c1cd5ba1-756f-4541-b3ea-3b2beb13435b",
   "metadata": {
    "tags": []
   },
   "outputs": [
    {
     "data": {
      "image/png": "[encoded data removed]",
      "text/plain": [
       "plot without title"
      ]
     },
     "metadata": {
      "image/png": {
       "height": 375,
       "width": 500
      }
     },
     "output_type": "display_data"
    }
   ],
   "source": [
    "p2 = ggplot(top_bird, aes(y = how_many, x = date)) +\n",
    "    geom_line() +\n",
    "    scale_x_date(date_breaks = '2 weeks', date_labels = '%y-%b-%d') +\n",
    "    ylab('Count') +\n",
    "    xlab('Date') +\n",
    "    theme_minimal() +\n",
    "    theme(axis.text.x = element_text(angle = 45, hjust = 1))\n",
    "\n",
    "p2"
   ]
  },
  {
   "cell_type": "code",
   "execution_count": null,
   "id": "53993bc1-cac4-4e64-a6ce-0141b7f4e7c2",
   "metadata": {},
   "outputs": [],
   "source": []
  }
 ],
 "metadata": {
  "kernelspec": {
   "display_name": "bios512:R",
   "language": "R",
   "name": "conda-env-bios512-r"
  },
  "language_info": {
   "codemirror_mode": "r",
   "file_extension": ".r",
   "mimetype": "text/x-r-source",
   "name": "R",
   "pygments_lexer": "r",
   "version": "4.3.1"
  }
 },
 "nbformat": 4,
 "nbformat_minor": 5
}
