{
 "cells": [
  {
   "cell_type": "markdown",
   "id": "9d7ea9b7",
   "metadata": {
    "slideshow": {
     "slide_type": "slide"
    }
   },
   "source": [
    "# Reading spreadsheets"
   ]
  },
  {
   "cell_type": "markdown",
   "id": "edcf9446",
   "metadata": {
    "slideshow": {
     "slide_type": "slide"
    }
   },
   "source": [
    "## Google Sheets"
   ]
  },
  {
   "cell_type": "markdown",
   "id": "9ffbec67",
   "metadata": {
    "slideshow": {
     "slide_type": "slide"
    }
   },
   "source": [
    "To read in Google Sheets spreadsheets we can use the [GoogleSheets4](https://googlesheets4.tidyverse.org/) package."
   ]
  },
  {
   "cell_type": "code",
   "execution_count": 1,
   "id": "f7d47f89-077d-41e8-a45d-55912d42bf8b",
   "metadata": {
    "slideshow": {
     "slide_type": "slide"
    },
    "tags": []
   },
   "outputs": [],
   "source": [
    "library('googlesheets4')"
   ]
  },
  {
   "cell_type": "markdown",
   "id": "dc860c6d",
   "metadata": {
    "slideshow": {
     "slide_type": "slide"
    }
   },
   "source": [
    "To read in a public sheet, we can turn off authentication."
   ]
  },
  {
   "cell_type": "code",
   "execution_count": 2,
   "id": "78e0a47e",
   "metadata": {
    "slideshow": {
     "slide_type": "slide"
    },
    "tags": []
   },
   "outputs": [],
   "source": [
    "gs4_deauth()"
   ]
  },
  {
   "cell_type": "markdown",
   "id": "f8b68488",
   "metadata": {
    "slideshow": {
     "slide_type": "slide"
    }
   },
   "source": [
    "[GapMinder](https://docs.google.com/spreadsheets/d/1U6Cf_qEOhiR9AZqTqS3mbMF3zt2db48ZP5v3rkrAEJY)"
   ]
  },
  {
   "cell_type": "markdown",
   "id": "1c82ed3c",
   "metadata": {
    "slideshow": {
     "slide_type": "slide"
    }
   },
   "source": [
    "We can read this sheet into our R session with the url or the sheet ID."
   ]
  },
  {
   "cell_type": "code",
   "execution_count": 3,
   "id": "b1bfee2f",
   "metadata": {
    "slideshow": {
     "slide_type": "slide"
    },
    "tags": []
   },
   "outputs": [
    {
     "name": "stderr",
     "output_type": "stream",
     "text": [
      "\u001b[32m✔\u001b[39m Reading from \u001b[36mgapminder\u001b[39m.\n",
      "\n",
      "\u001b[32m✔\u001b[39m Range \u001b[33mAfrica\u001b[39m.\n",
      "\n"
     ]
    }
   ],
   "source": [
    "gapminder = read_sheet('1U6Cf_qEOhiR9AZqTqS3mbMF3zt2db48ZP5v3rkrAEJY')"
   ]
  },
  {
   "cell_type": "code",
   "execution_count": 4,
   "id": "fdad1a86",
   "metadata": {
    "slideshow": {
     "slide_type": "slide"
    },
    "tags": []
   },
   "outputs": [
    {
     "data": {
      "text/html": [
       "<table class=\"dataframe\">\n",
       "<caption>A tibble: 6 × 6</caption>\n",
       "<thead>\n",
       "\t<tr><th scope=col>country</th><th scope=col>continent</th><th scope=col>year</th><th scope=col>lifeExp</th><th scope=col>pop</th><th scope=col>gdpPercap</th></tr>\n",
       "\t<tr><th scope=col>&lt;chr&gt;</th><th scope=col>&lt;chr&gt;</th><th scope=col>&lt;dbl&gt;</th><th scope=col>&lt;dbl&gt;</th><th scope=col>&lt;dbl&gt;</th><th scope=col>&lt;dbl&gt;</th></tr>\n",
       "</thead>\n",
       "<tbody>\n",
       "\t<tr><td>Algeria</td><td>Africa</td><td>1952</td><td>43.077</td><td> 9279525</td><td>2449.008</td></tr>\n",
       "\t<tr><td>Algeria</td><td>Africa</td><td>1957</td><td>45.685</td><td>10270856</td><td>3013.976</td></tr>\n",
       "\t<tr><td>Algeria</td><td>Africa</td><td>1962</td><td>48.303</td><td>11000948</td><td>2550.817</td></tr>\n",
       "\t<tr><td>Algeria</td><td>Africa</td><td>1967</td><td>51.407</td><td>12760499</td><td>3246.992</td></tr>\n",
       "\t<tr><td>Algeria</td><td>Africa</td><td>1972</td><td>54.518</td><td>14760787</td><td>4182.664</td></tr>\n",
       "\t<tr><td>Algeria</td><td>Africa</td><td>1977</td><td>58.014</td><td>17152804</td><td>4910.417</td></tr>\n",
       "</tbody>\n",
       "</table>\n"
      ],
      "text/latex": [
       "A tibble: 6 × 6\n",
       "\\begin{tabular}{llllll}\n",
       " country & continent & year & lifeExp & pop & gdpPercap\\\\\n",
       " <chr> & <chr> & <dbl> & <dbl> & <dbl> & <dbl>\\\\\n",
       "\\hline\n",
       "\t Algeria & Africa & 1952 & 43.077 &  9279525 & 2449.008\\\\\n",
       "\t Algeria & Africa & 1957 & 45.685 & 10270856 & 3013.976\\\\\n",
       "\t Algeria & Africa & 1962 & 48.303 & 11000948 & 2550.817\\\\\n",
       "\t Algeria & Africa & 1967 & 51.407 & 12760499 & 3246.992\\\\\n",
       "\t Algeria & Africa & 1972 & 54.518 & 14760787 & 4182.664\\\\\n",
       "\t Algeria & Africa & 1977 & 58.014 & 17152804 & 4910.417\\\\\n",
       "\\end{tabular}\n"
      ],
      "text/markdown": [
       "\n",
       "A tibble: 6 × 6\n",
       "\n",
       "| country &lt;chr&gt; | continent &lt;chr&gt; | year &lt;dbl&gt; | lifeExp &lt;dbl&gt; | pop &lt;dbl&gt; | gdpPercap &lt;dbl&gt; |\n",
       "|---|---|---|---|---|---|\n",
       "| Algeria | Africa | 1952 | 43.077 |  9279525 | 2449.008 |\n",
       "| Algeria | Africa | 1957 | 45.685 | 10270856 | 3013.976 |\n",
       "| Algeria | Africa | 1962 | 48.303 | 11000948 | 2550.817 |\n",
       "| Algeria | Africa | 1967 | 51.407 | 12760499 | 3246.992 |\n",
       "| Algeria | Africa | 1972 | 54.518 | 14760787 | 4182.664 |\n",
       "| Algeria | Africa | 1977 | 58.014 | 17152804 | 4910.417 |\n",
       "\n"
      ],
      "text/plain": [
       "  country continent year lifeExp pop      gdpPercap\n",
       "1 Algeria Africa    1952 43.077   9279525 2449.008 \n",
       "2 Algeria Africa    1957 45.685  10270856 3013.976 \n",
       "3 Algeria Africa    1962 48.303  11000948 2550.817 \n",
       "4 Algeria Africa    1967 51.407  12760499 3246.992 \n",
       "5 Algeria Africa    1972 54.518  14760787 4182.664 \n",
       "6 Algeria Africa    1977 58.014  17152804 4910.417 "
      ]
     },
     "metadata": {},
     "output_type": "display_data"
    }
   ],
   "source": [
    "gapminder |> head()"
   ]
  },
  {
   "cell_type": "code",
   "execution_count": 5,
   "id": "a7dceaa0",
   "metadata": {
    "slideshow": {
     "slide_type": "slide"
    },
    "tags": []
   },
   "outputs": [
    {
     "name": "stderr",
     "output_type": "stream",
     "text": [
      "\u001b[32m✔\u001b[39m Reading from \u001b[36mgapminder\u001b[39m.\n",
      "\n",
      "\u001b[32m✔\u001b[39m Range '\u001b[33m'Americas'\u001b[39m'.\n",
      "\n"
     ]
    },
    {
     "data": {
      "text/html": [
       "<table class=\"dataframe\">\n",
       "<caption>A tibble: 6 × 6</caption>\n",
       "<thead>\n",
       "\t<tr><th scope=col>country</th><th scope=col>continent</th><th scope=col>year</th><th scope=col>lifeExp</th><th scope=col>pop</th><th scope=col>gdpPercap</th></tr>\n",
       "\t<tr><th scope=col>&lt;chr&gt;</th><th scope=col>&lt;chr&gt;</th><th scope=col>&lt;dbl&gt;</th><th scope=col>&lt;dbl&gt;</th><th scope=col>&lt;dbl&gt;</th><th scope=col>&lt;dbl&gt;</th></tr>\n",
       "</thead>\n",
       "<tbody>\n",
       "\t<tr><td>Argentina</td><td>Americas</td><td>1952</td><td>62.485</td><td>17876956</td><td> 5911.315</td></tr>\n",
       "\t<tr><td>Argentina</td><td>Americas</td><td>1957</td><td>64.399</td><td>19610538</td><td> 6856.856</td></tr>\n",
       "\t<tr><td>Argentina</td><td>Americas</td><td>1962</td><td>65.142</td><td>21283783</td><td> 7133.166</td></tr>\n",
       "\t<tr><td>Argentina</td><td>Americas</td><td>1967</td><td>65.634</td><td>22934225</td><td> 8052.953</td></tr>\n",
       "\t<tr><td>Argentina</td><td>Americas</td><td>1972</td><td>67.065</td><td>24779799</td><td> 9443.039</td></tr>\n",
       "\t<tr><td>Argentina</td><td>Americas</td><td>1977</td><td>68.481</td><td>26983828</td><td>10079.027</td></tr>\n",
       "</tbody>\n",
       "</table>\n"
      ],
      "text/latex": [
       "A tibble: 6 × 6\n",
       "\\begin{tabular}{llllll}\n",
       " country & continent & year & lifeExp & pop & gdpPercap\\\\\n",
       " <chr> & <chr> & <dbl> & <dbl> & <dbl> & <dbl>\\\\\n",
       "\\hline\n",
       "\t Argentina & Americas & 1952 & 62.485 & 17876956 &  5911.315\\\\\n",
       "\t Argentina & Americas & 1957 & 64.399 & 19610538 &  6856.856\\\\\n",
       "\t Argentina & Americas & 1962 & 65.142 & 21283783 &  7133.166\\\\\n",
       "\t Argentina & Americas & 1967 & 65.634 & 22934225 &  8052.953\\\\\n",
       "\t Argentina & Americas & 1972 & 67.065 & 24779799 &  9443.039\\\\\n",
       "\t Argentina & Americas & 1977 & 68.481 & 26983828 & 10079.027\\\\\n",
       "\\end{tabular}\n"
      ],
      "text/markdown": [
       "\n",
       "A tibble: 6 × 6\n",
       "\n",
       "| country &lt;chr&gt; | continent &lt;chr&gt; | year &lt;dbl&gt; | lifeExp &lt;dbl&gt; | pop &lt;dbl&gt; | gdpPercap &lt;dbl&gt; |\n",
       "|---|---|---|---|---|---|\n",
       "| Argentina | Americas | 1952 | 62.485 | 17876956 |  5911.315 |\n",
       "| Argentina | Americas | 1957 | 64.399 | 19610538 |  6856.856 |\n",
       "| Argentina | Americas | 1962 | 65.142 | 21283783 |  7133.166 |\n",
       "| Argentina | Americas | 1967 | 65.634 | 22934225 |  8052.953 |\n",
       "| Argentina | Americas | 1972 | 67.065 | 24779799 |  9443.039 |\n",
       "| Argentina | Americas | 1977 | 68.481 | 26983828 | 10079.027 |\n",
       "\n"
      ],
      "text/plain": [
       "  country   continent year lifeExp pop      gdpPercap\n",
       "1 Argentina Americas  1952 62.485  17876956  5911.315\n",
       "2 Argentina Americas  1957 64.399  19610538  6856.856\n",
       "3 Argentina Americas  1962 65.142  21283783  7133.166\n",
       "4 Argentina Americas  1967 65.634  22934225  8052.953\n",
       "5 Argentina Americas  1972 67.065  24779799  9443.039\n",
       "6 Argentina Americas  1977 68.481  26983828 10079.027"
      ]
     },
     "metadata": {},
     "output_type": "display_data"
    }
   ],
   "source": [
    "# We can specify a \"sheet\" with the sheet argument\n",
    "\n",
    "gapminder_americas = read_sheet('1U6Cf_qEOhiR9AZqTqS3mbMF3zt2db48ZP5v3rkrAEJY', sheet = 'Americas')\n",
    "\n",
    "gapminder_americas |> head()"
   ]
  },
  {
   "cell_type": "code",
   "execution_count": 6,
   "id": "929c3f92",
   "metadata": {
    "slideshow": {
     "slide_type": "slide"
    },
    "tags": []
   },
   "outputs": [
    {
     "name": "stderr",
     "output_type": "stream",
     "text": [
      "Warning message:\n",
      "“Failed to locate timezone database”\n",
      "── \u001b[1mAttaching core tidyverse packages\u001b[22m ──────────────────────── tidyverse 2.0.0 ──\n",
      "\u001b[32m✔\u001b[39m \u001b[34mdplyr    \u001b[39m 1.1.3     \u001b[32m✔\u001b[39m \u001b[34mreadr    \u001b[39m 2.1.4\n",
      "\u001b[32m✔\u001b[39m \u001b[34mforcats  \u001b[39m 1.0.0     \u001b[32m✔\u001b[39m \u001b[34mstringr  \u001b[39m 1.5.0\n",
      "\u001b[32m✔\u001b[39m \u001b[34mggplot2  \u001b[39m 3.4.3     \u001b[32m✔\u001b[39m \u001b[34mtibble   \u001b[39m 3.2.1\n",
      "\u001b[32m✔\u001b[39m \u001b[34mlubridate\u001b[39m 1.9.2     \u001b[32m✔\u001b[39m \u001b[34mtidyr    \u001b[39m 1.3.0\n",
      "\u001b[32m✔\u001b[39m \u001b[34mpurrr    \u001b[39m 1.0.2     \n",
      "── \u001b[1mConflicts\u001b[22m ────────────────────────────────────────── tidyverse_conflicts() ──\n",
      "\u001b[31m✖\u001b[39m \u001b[34mdplyr\u001b[39m::\u001b[32mfilter()\u001b[39m masks \u001b[34mstats\u001b[39m::filter()\n",
      "\u001b[31m✖\u001b[39m \u001b[34mdplyr\u001b[39m::\u001b[32mlag()\u001b[39m    masks \u001b[34mstats\u001b[39m::lag()\n",
      "\u001b[36mℹ\u001b[39m Use the conflicted package (\u001b[3m\u001b[34m<http://conflicted.r-lib.org/>\u001b[39m\u001b[23m) to force all conflicts to become errors\n"
     ]
    }
   ],
   "source": [
    "library('tidyverse')"
   ]
  },
  {
   "cell_type": "code",
   "execution_count": 7,
   "id": "95fb16fa",
   "metadata": {
    "slideshow": {
     "slide_type": "slide"
    },
    "tags": []
   },
   "outputs": [
    {
     "data": {
      "image/png": "[encoded data removed]",
      "text/plain": [
       "plot without title"
      ]
     },
     "metadata": {
      "image/png": {
       "height": 180,
       "width": 420
      }
     },
     "output_type": "display_data"
    }
   ],
   "source": [
    "options(repr.plot.height = 3)\n",
    "\n",
    "gapminder_americas |> \n",
    "    filter(country == 'Mexico') |>\n",
    "    pivot_longer(cols = c(lifeExp, gdpPercap), names_to = 'metric') |>\n",
    "ggplot(aes(x = year, y = value)) +\n",
    "    geom_line() +\n",
    "    facet_wrap(~metric, scales = 'free_y')"
   ]
  },
  {
   "cell_type": "markdown",
   "id": "c36b4939",
   "metadata": {
    "slideshow": {
     "slide_type": "slide"
    }
   },
   "source": [
    "### Reading a private spreadsheet (from Jupyter)"
   ]
  },
  {
   "cell_type": "markdown",
   "id": "ffd09b49",
   "metadata": {
    "slideshow": {
     "slide_type": "slide"
    }
   },
   "source": [
    "We need to \"authenticate\" with Google."
   ]
  },
  {
   "cell_type": "code",
   "execution_count": 10,
   "id": "05fc533f",
   "metadata": {
    "slideshow": {
     "slide_type": "slide"
    },
    "tags": []
   },
   "outputs": [],
   "source": [
    "# assignInNamespace(\"is_interactive\", function() {TRUE}, \"httr\")\n",
    "\n",
    "# rlang::with_interactive({gs4_auth(use_oob=TRUE, cache=FALSE)})"
   ]
  },
  {
   "cell_type": "markdown",
   "id": "6c52a733",
   "metadata": {
    "slideshow": {
     "slide_type": "slide"
    }
   },
   "source": [
    "**Always comment out the auth code after running it so you don't accidentally make your token available!**"
   ]
  },
  {
   "cell_type": "markdown",
   "id": "2e9c8219",
   "metadata": {
    "slideshow": {
     "slide_type": "slide"
    }
   },
   "source": [
    "[Private MPG spreadsheet](https://docs.google.com/spreadsheets/d/1_Ah35BO9_bYlRsPm_B_v5XU9fmUOVxF6NTTrSNvUCkU)"
   ]
  },
  {
   "cell_type": "code",
   "execution_count": 9,
   "id": "a0779b74",
   "metadata": {
    "slideshow": {
     "slide_type": "slide"
    },
    "tags": []
   },
   "outputs": [
    {
     "ename": "ERROR",
     "evalue": "\u001b[1m\u001b[33mError\u001b[39m in `gs4_get_impl_()`:\u001b[22m\n\u001b[1m\u001b[22m\u001b[33m!\u001b[39m Client error: (403) PERMISSION_DENIED\n\u001b[36m•\u001b[39m Client does not have sufficient permission. This can happen because the OAuth\n  token does not have the right scopes, the client doesn't have permission, or\n  the API has not been enabled for the client project.\n\u001b[36m•\u001b[39m The caller does not have permission\n",
     "output_type": "error",
     "traceback": [
      "\u001b[1m\u001b[33mError\u001b[39m in `gs4_get_impl_()`:\u001b[22m\n\u001b[1m\u001b[22m\u001b[33m!\u001b[39m Client error: (403) PERMISSION_DENIED\n\u001b[36m•\u001b[39m Client does not have sufficient permission. This can happen because the OAuth\n  token does not have the right scopes, the client doesn't have permission, or\n  the API has not been enabled for the client project.\n\u001b[36m•\u001b[39m The caller does not have permission\nTraceback:\n",
      "1. read_sheet(\"1_Ah35BO9_bYlRsPm_B_v5XU9fmUOVxF6NTTrSNvUCkU\")",
      "2. get_cells(ss = ss, sheet = sheet, range = range, col_names_in_sheet = isTRUE(col_spec$col_names), \n .     skip = skip, n_max = n_max)",
      "3. gs4_get(ssid)",
      "4. gs4_get_impl_(as_sheets_id(ss))",
      "5. gargle::response_process(raw_resp)",
      "6. gargle_abort_request_failed(error_message(resp, call = call), \n .     resp, call = call)",
      "7. gargle_abort(message, class = c(\"gargle_error_request_failed\", \n .     glue(\"http_error_{httr::status_code(resp)}\")), .envir = .envir, \n .     call = call, resp = redact_response(resp))",
      "8. cli::cli_abort(message, class = c(class, \"gargle_error\"), .envir = .envir, \n .     call = call, ...)",
      "9. rlang::abort(message, ..., call = call, use_cli_format = TRUE, \n .     .frame = .frame)",
      "10. signal_abort(cnd, .file)"
     ]
    }
   ],
   "source": [
    "mpg_from_gsheets = read_sheet('1_Ah35BO9_bYlRsPm_B_v5XU9fmUOVxF6NTTrSNvUCkU')\n",
    "\n",
    "mpg_from_gsheets |> head()"
   ]
  },
  {
   "cell_type": "markdown",
   "id": "a461b594",
   "metadata": {
    "slideshow": {
     "slide_type": "slide"
    }
   },
   "source": [
    "## Excel "
   ]
  },
  {
   "cell_type": "markdown",
   "id": "b6dd1d29",
   "metadata": {
    "slideshow": {
     "slide_type": "slide"
    }
   },
   "source": [
    "We can use the [readxl]() package to read in Excel spreadsheets."
   ]
  },
  {
   "cell_type": "code",
   "execution_count": 11,
   "id": "dba40257",
   "metadata": {
    "tags": []
   },
   "outputs": [],
   "source": [
    "library('readxl')"
   ]
  },
  {
   "cell_type": "code",
   "execution_count": 13,
   "id": "3727996c",
   "metadata": {
    "tags": []
   },
   "outputs": [
    {
     "ename": "ERROR",
     "evalue": "Error: `path` does not exist: ‘mpg.xlsx’\n",
     "output_type": "error",
     "traceback": [
      "Error: `path` does not exist: ‘mpg.xlsx’\nTraceback:\n",
      "1. read_excel(\"mpg.xlsx\")",
      "2. check_file(path)",
      "3. stop(\"`path` does not exist: \", sQuote(path), call. = FALSE)"
     ]
    }
   ],
   "source": [
    "mpg_from_excel = read_excel('mpg.xlsx') \n",
    "\n",
    "mpg_from_excel |> head()"
   ]
  },
  {
   "cell_type": "code",
   "execution_count": null,
   "id": "559bea2a-7075-42a6-a43c-8325eecf73af",
   "metadata": {},
   "outputs": [],
   "source": []
  }
 ],
 "metadata": {
  "celltoolbar": "Slideshow",
  "kernelspec": {
   "display_name": "bios512:R",
   "language": "R",
   "name": "conda-env-bios512-r"
  },
  "language_info": {
   "codemirror_mode": "r",
   "file_extension": ".r",
   "mimetype": "text/x-r-source",
   "name": "R",
   "pygments_lexer": "r",
   "version": "4.3.1"
  }
 },
 "nbformat": 4,
 "nbformat_minor": 5
}
