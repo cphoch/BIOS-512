{
 "cells": [
  {
   "cell_type": "markdown",
   "metadata": {},
   "source": [
    "Import the 🦸🏾‍♀️\"Avengers\"🦹🏻 data from the [FiveThirtyEight data repository on GitHub](https://github.com/fivethirtyeight/data/blob/master/avengers/avengers.csv)."
   ]
  },
  {
   "cell_type": "code",
   "execution_count": 4,
   "metadata": {
    "tags": []
   },
   "outputs": [],
   "source": [
    "library('tidyverse')\n",
    "library('ggplot2')"
   ]
  },
  {
   "cell_type": "code",
   "execution_count": 6,
   "metadata": {
    "tags": []
   },
   "outputs": [
    {
     "name": "stderr",
     "output_type": "stream",
     "text": [
      "\u001b[1mRows: \u001b[22m\u001b[34m173\u001b[39m \u001b[1mColumns: \u001b[22m\u001b[34m21\u001b[39m\n",
      "\u001b[36m──\u001b[39m \u001b[1mColumn specification\u001b[22m \u001b[36m────────────────────────────────────────────────────────\u001b[39m\n",
      "\u001b[1mDelimiter:\u001b[22m \",\"\n",
      "\u001b[31mchr\u001b[39m (18): URL, Name/Alias, Current?, Gender, Probationary Introl, Full/Reser...\n",
      "\u001b[32mdbl\u001b[39m  (3): Appearances, Year, Years since joining\n",
      "\n",
      "\u001b[36mℹ\u001b[39m Use `spec()` to retrieve the full column specification for this data.\n",
      "\u001b[36mℹ\u001b[39m Specify the column types or set `show_col_types = FALSE` to quiet this message.\n"
     ]
    }
   ],
   "source": [
    "avengers = read_csv('https://raw.githubusercontent.com/fivethirtyeight/data/master/avengers/avengers.csv')"
   ]
  },
  {
   "cell_type": "markdown",
   "metadata": {},
   "source": [
    "Make an ECDF plot 📊 of `Appearances`."
   ]
  },
  {
   "cell_type": "markdown",
   "metadata": {},
   "source": [
    "(❗️Hint: combine `arrange`, `mutate` and `row_number`/`rank` to produce a new column to encode with y-position.)"
   ]
  },
  {
   "cell_type": "code",
   "execution_count": 11,
   "metadata": {
    "tags": []
   },
   "outputs": [
    {
     "data": {
      "text/html": [
       "<table class=\"dataframe\">\n",
       "<caption>A tibble: 6 × 21</caption>\n",
       "<thead>\n",
       "\t<tr><th scope=col>URL</th><th scope=col>Name/Alias</th><th scope=col>Appearances</th><th scope=col>Current?</th><th scope=col>Gender</th><th scope=col>Probationary Introl</th><th scope=col>Full/Reserve Avengers Intro</th><th scope=col>Year</th><th scope=col>Years since joining</th><th scope=col>Honorary</th><th scope=col>⋯</th><th scope=col>Return1</th><th scope=col>Death2</th><th scope=col>Return2</th><th scope=col>Death3</th><th scope=col>Return3</th><th scope=col>Death4</th><th scope=col>Return4</th><th scope=col>Death5</th><th scope=col>Return5</th><th scope=col>Notes</th></tr>\n",
       "\t<tr><th scope=col>&lt;chr&gt;</th><th scope=col>&lt;chr&gt;</th><th scope=col>&lt;dbl&gt;</th><th scope=col>&lt;chr&gt;</th><th scope=col>&lt;chr&gt;</th><th scope=col>&lt;chr&gt;</th><th scope=col>&lt;chr&gt;</th><th scope=col>&lt;dbl&gt;</th><th scope=col>&lt;dbl&gt;</th><th scope=col>&lt;chr&gt;</th><th scope=col>⋯</th><th scope=col>&lt;chr&gt;</th><th scope=col>&lt;chr&gt;</th><th scope=col>&lt;chr&gt;</th><th scope=col>&lt;chr&gt;</th><th scope=col>&lt;chr&gt;</th><th scope=col>&lt;chr&gt;</th><th scope=col>&lt;chr&gt;</th><th scope=col>&lt;chr&gt;</th><th scope=col>&lt;chr&gt;</th><th scope=col>&lt;chr&gt;</th></tr>\n",
       "</thead>\n",
       "<tbody>\n",
       "\t<tr><td>http://marvel.wikia.com/Moira_Brandon_(Earth-616)#  </td><td>Moira Brandon</td><td>2</td><td>NO </td><td>FEMALE</td><td>NA</td><td>Nov-93</td><td>1993</td><td> 22</td><td>Honorary</td><td>⋯</td><td>NO</td><td>NA</td><td>NA</td><td>NA</td><td>NA</td><td>NA</td><td>NA</td><td>NA</td><td>NA</td><td>Died in her second appearance earns honorary Avengers status doing so. Stays dead.</td></tr>\n",
       "\t<tr><td>http://marvel.wikia.com/Fiona_(Inhuman)_(Earth-616)#</td><td>Fiona        </td><td>2</td><td>YES</td><td>FEMALE</td><td>NA</td><td>NA    </td><td>1900</td><td>115</td><td>Academy </td><td>⋯</td><td>NA</td><td>NA</td><td>NA</td><td>NA</td><td>NA</td><td>NA</td><td>NA</td><td>NA</td><td>NA</td><td>NA                                                                                </td></tr>\n",
       "\t<tr><td>http://marvel.wikia.com/Doug_Taggert_(Earth-616)#   </td><td>Doug Taggert </td><td>3</td><td>NO </td><td>MALE  </td><td>NA</td><td>5-May </td><td>2005</td><td> 10</td><td>Full    </td><td>⋯</td><td>NO</td><td>NA</td><td>NA</td><td>NA</td><td>NA</td><td>NA</td><td>NA</td><td>NA</td><td>NA</td><td>Accidently killed by Zaran                                                        </td></tr>\n",
       "\t<tr><td>http://marvel.wikia.com/Gene_Lorrene_(Earth-616)#   </td><td>Gene Lorrene </td><td>4</td><td>NO </td><td>MALE  </td><td>NA</td><td>5-Apr </td><td>2005</td><td> 10</td><td>Full    </td><td>⋯</td><td>NA</td><td>NA</td><td>NA</td><td>NA</td><td>NA</td><td>NA</td><td>NA</td><td>NA</td><td>NA</td><td>NA                                                                                </td></tr>\n",
       "\t<tr><td>http://marvel.wikia.com/Dennis_Sykes_(Earth-616)#   </td><td>Dennis Sykes </td><td>6</td><td>NO </td><td>MALE  </td><td>NA</td><td>10-Sep</td><td>2010</td><td>  5</td><td>Full    </td><td>⋯</td><td>NO</td><td>NA</td><td>NA</td><td>NA</td><td>NA</td><td>NA</td><td>NA</td><td>NA</td><td>NA</td><td>Died in Heroic_Age:_One_Month_to_Live_Vol_1_5 stayed dead.                        </td></tr>\n",
       "\t<tr><td>http://marvel.wikia.com/Monkey_Joe_(Earth-616)#     </td><td>NA           </td><td>7</td><td>NO </td><td>MALE  </td><td>NA</td><td>5-May </td><td>2005</td><td> 10</td><td>Full    </td><td>⋯</td><td>NO</td><td>NA</td><td>NA</td><td>NA</td><td>NA</td><td>NA</td><td>NA</td><td>NA</td><td>NA</td><td>Killed by Leather Boy                                                             </td></tr>\n",
       "</tbody>\n",
       "</table>\n"
      ],
      "text/latex": [
       "A tibble: 6 × 21\n",
       "\\begin{tabular}{lllllllllllllllllllll}\n",
       " URL & Name/Alias & Appearances & Current? & Gender & Probationary Introl & Full/Reserve Avengers Intro & Year & Years since joining & Honorary & ⋯ & Return1 & Death2 & Return2 & Death3 & Return3 & Death4 & Return4 & Death5 & Return5 & Notes\\\\\n",
       " <chr> & <chr> & <dbl> & <chr> & <chr> & <chr> & <chr> & <dbl> & <dbl> & <chr> & ⋯ & <chr> & <chr> & <chr> & <chr> & <chr> & <chr> & <chr> & <chr> & <chr> & <chr>\\\\\n",
       "\\hline\n",
       "\t http://marvel.wikia.com/Moira\\_Brandon\\_(Earth-616)\\#   & Moira Brandon & 2 & NO  & FEMALE & NA & Nov-93 & 1993 &  22 & Honorary & ⋯ & NO & NA & NA & NA & NA & NA & NA & NA & NA & Died in her second appearance earns honorary Avengers status doing so. Stays dead.\\\\\n",
       "\t http://marvel.wikia.com/Fiona\\_(Inhuman)\\_(Earth-616)\\# & Fiona         & 2 & YES & FEMALE & NA & NA     & 1900 & 115 & Academy  & ⋯ & NA & NA & NA & NA & NA & NA & NA & NA & NA & NA                                                                                \\\\\n",
       "\t http://marvel.wikia.com/Doug\\_Taggert\\_(Earth-616)\\#    & Doug Taggert  & 3 & NO  & MALE   & NA & 5-May  & 2005 &  10 & Full     & ⋯ & NO & NA & NA & NA & NA & NA & NA & NA & NA & Accidently killed by Zaran                                                        \\\\\n",
       "\t http://marvel.wikia.com/Gene\\_Lorrene\\_(Earth-616)\\#    & Gene Lorrene  & 4 & NO  & MALE   & NA & 5-Apr  & 2005 &  10 & Full     & ⋯ & NA & NA & NA & NA & NA & NA & NA & NA & NA & NA                                                                                \\\\\n",
       "\t http://marvel.wikia.com/Dennis\\_Sykes\\_(Earth-616)\\#    & Dennis Sykes  & 6 & NO  & MALE   & NA & 10-Sep & 2010 &   5 & Full     & ⋯ & NO & NA & NA & NA & NA & NA & NA & NA & NA & Died in Heroic\\_Age:\\_One\\_Month\\_to\\_Live\\_Vol\\_1\\_5 stayed dead.                        \\\\\n",
       "\t http://marvel.wikia.com/Monkey\\_Joe\\_(Earth-616)\\#      & NA            & 7 & NO  & MALE   & NA & 5-May  & 2005 &  10 & Full     & ⋯ & NO & NA & NA & NA & NA & NA & NA & NA & NA & Killed by Leather Boy                                                             \\\\\n",
       "\\end{tabular}\n"
      ],
      "text/markdown": [
       "\n",
       "A tibble: 6 × 21\n",
       "\n",
       "| URL &lt;chr&gt; | Name/Alias &lt;chr&gt; | Appearances &lt;dbl&gt; | Current? &lt;chr&gt; | Gender &lt;chr&gt; | Probationary Introl &lt;chr&gt; | Full/Reserve Avengers Intro &lt;chr&gt; | Year &lt;dbl&gt; | Years since joining &lt;dbl&gt; | Honorary &lt;chr&gt; | ⋯ ⋯ | Return1 &lt;chr&gt; | Death2 &lt;chr&gt; | Return2 &lt;chr&gt; | Death3 &lt;chr&gt; | Return3 &lt;chr&gt; | Death4 &lt;chr&gt; | Return4 &lt;chr&gt; | Death5 &lt;chr&gt; | Return5 &lt;chr&gt; | Notes &lt;chr&gt; |\n",
       "|---|---|---|---|---|---|---|---|---|---|---|---|---|---|---|---|---|---|---|---|---|\n",
       "| http://marvel.wikia.com/Moira_Brandon_(Earth-616)#   | Moira Brandon | 2 | NO  | FEMALE | NA | Nov-93 | 1993 |  22 | Honorary | ⋯ | NO | NA | NA | NA | NA | NA | NA | NA | NA | Died in her second appearance earns honorary Avengers status doing so. Stays dead. |\n",
       "| http://marvel.wikia.com/Fiona_(Inhuman)_(Earth-616)# | Fiona         | 2 | YES | FEMALE | NA | NA     | 1900 | 115 | Academy  | ⋯ | NA | NA | NA | NA | NA | NA | NA | NA | NA | NA                                                                                 |\n",
       "| http://marvel.wikia.com/Doug_Taggert_(Earth-616)#    | Doug Taggert  | 3 | NO  | MALE   | NA | 5-May  | 2005 |  10 | Full     | ⋯ | NO | NA | NA | NA | NA | NA | NA | NA | NA | Accidently killed by Zaran                                                         |\n",
       "| http://marvel.wikia.com/Gene_Lorrene_(Earth-616)#    | Gene Lorrene  | 4 | NO  | MALE   | NA | 5-Apr  | 2005 |  10 | Full     | ⋯ | NA | NA | NA | NA | NA | NA | NA | NA | NA | NA                                                                                 |\n",
       "| http://marvel.wikia.com/Dennis_Sykes_(Earth-616)#    | Dennis Sykes  | 6 | NO  | MALE   | NA | 10-Sep | 2010 |   5 | Full     | ⋯ | NO | NA | NA | NA | NA | NA | NA | NA | NA | Died in Heroic_Age:_One_Month_to_Live_Vol_1_5 stayed dead.                         |\n",
       "| http://marvel.wikia.com/Monkey_Joe_(Earth-616)#      | NA            | 7 | NO  | MALE   | NA | 5-May  | 2005 |  10 | Full     | ⋯ | NO | NA | NA | NA | NA | NA | NA | NA | NA | Killed by Leather Boy                                                              |\n",
       "\n"
      ],
      "text/plain": [
       "  URL                                                  Name/Alias   \n",
       "1 http://marvel.wikia.com/Moira_Brandon_(Earth-616)#   Moira Brandon\n",
       "2 http://marvel.wikia.com/Fiona_(Inhuman)_(Earth-616)# Fiona        \n",
       "3 http://marvel.wikia.com/Doug_Taggert_(Earth-616)#    Doug Taggert \n",
       "4 http://marvel.wikia.com/Gene_Lorrene_(Earth-616)#    Gene Lorrene \n",
       "5 http://marvel.wikia.com/Dennis_Sykes_(Earth-616)#    Dennis Sykes \n",
       "6 http://marvel.wikia.com/Monkey_Joe_(Earth-616)#      NA           \n",
       "  Appearances Current? Gender Probationary Introl Full/Reserve Avengers Intro\n",
       "1 2           NO       FEMALE NA                  Nov-93                     \n",
       "2 2           YES      FEMALE NA                  NA                         \n",
       "3 3           NO       MALE   NA                  5-May                      \n",
       "4 4           NO       MALE   NA                  5-Apr                      \n",
       "5 6           NO       MALE   NA                  10-Sep                     \n",
       "6 7           NO       MALE   NA                  5-May                      \n",
       "  Year Years since joining Honorary ⋯ Return1 Death2 Return2 Death3 Return3\n",
       "1 1993  22                 Honorary ⋯ NO      NA     NA      NA     NA     \n",
       "2 1900 115                 Academy  ⋯ NA      NA     NA      NA     NA     \n",
       "3 2005  10                 Full     ⋯ NO      NA     NA      NA     NA     \n",
       "4 2005  10                 Full     ⋯ NA      NA     NA      NA     NA     \n",
       "5 2010   5                 Full     ⋯ NO      NA     NA      NA     NA     \n",
       "6 2005  10                 Full     ⋯ NO      NA     NA      NA     NA     \n",
       "  Death4 Return4 Death5 Return5\n",
       "1 NA     NA      NA     NA     \n",
       "2 NA     NA      NA     NA     \n",
       "3 NA     NA      NA     NA     \n",
       "4 NA     NA      NA     NA     \n",
       "5 NA     NA      NA     NA     \n",
       "6 NA     NA      NA     NA     \n",
       "  Notes                                                                             \n",
       "1 Died in her second appearance earns honorary Avengers status doing so. Stays dead.\n",
       "2 NA                                                                                \n",
       "3 Accidently killed by Zaran                                                        \n",
       "4 NA                                                                                \n",
       "5 Died in Heroic_Age:_One_Month_to_Live_Vol_1_5 stayed dead.                        \n",
       "6 Killed by Leather Boy                                                             "
      ]
     },
     "metadata": {},
     "output_type": "display_data"
    }
   ],
   "source": [
    "avengers_appear = avengers |>\n",
    "    arrange(Appearances)\n",
    "\n",
    "avengers_appear |> head()"
   ]
  },
  {
   "cell_type": "code",
   "execution_count": 13,
   "metadata": {
    "tags": []
   },
   "outputs": [
    {
     "data": {
      "image/png": "[encoded data removed]",
      "text/plain": [
       "plot without title"
      ]
     },
     "metadata": {
      "image/png": {
       "height": 420,
       "width": 420
      }
     },
     "output_type": "display_data"
    }
   ],
   "source": [
    "p = ggplot(avengers_appear, aes(x = Appearances)) +\n",
    "    stat_ecdf(geom = 'step') +\n",
    "    theme_minimal()\n",
    "\n",
    "p"
   ]
  },
  {
   "cell_type": "code",
   "execution_count": null,
   "metadata": {},
   "outputs": [],
   "source": []
  }
 ],
 "metadata": {
  "kernelspec": {
   "display_name": "bios512:R",
   "language": "R",
   "name": "conda-env-bios512-r"
  },
  "language_info": {
   "codemirror_mode": "r",
   "file_extension": ".r",
   "mimetype": "text/x-r-source",
   "name": "R",
   "pygments_lexer": "r",
   "version": "4.3.1"
  }
 },
 "nbformat": 4,
 "nbformat_minor": 4
}
