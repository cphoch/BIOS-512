{
 "cells": [
  {
   "cell_type": "markdown",
   "metadata": {},
   "source": [
    "Find a dataset from the [TidyTuesday Project](https://github.com/rfordatascience/tidytuesday) which has at least one column with `strings` as values.\n",
    "\n",
    "Use `read_csv` to load the data into your R session. Give the tibble an informative variable name."
   ]
  },
  {
   "cell_type": "code",
   "execution_count": 1,
   "metadata": {
    "tags": []
   },
   "outputs": [
    {
     "name": "stderr",
     "output_type": "stream",
     "text": [
      "Warning message:\n",
      "“Failed to locate timezone database”\n",
      "── \u001b[1mAttaching core tidyverse packages\u001b[22m ──────────────────────── tidyverse 2.0.0 ──\n",
      "\u001b[32m✔\u001b[39m \u001b[34mdplyr    \u001b[39m 1.1.3     \u001b[32m✔\u001b[39m \u001b[34mreadr    \u001b[39m 2.1.4\n",
      "\u001b[32m✔\u001b[39m \u001b[34mforcats  \u001b[39m 1.0.0     \u001b[32m✔\u001b[39m \u001b[34mstringr  \u001b[39m 1.5.0\n",
      "\u001b[32m✔\u001b[39m \u001b[34mggplot2  \u001b[39m 3.4.3     \u001b[32m✔\u001b[39m \u001b[34mtibble   \u001b[39m 3.2.1\n",
      "\u001b[32m✔\u001b[39m \u001b[34mlubridate\u001b[39m 1.9.2     \u001b[32m✔\u001b[39m \u001b[34mtidyr    \u001b[39m 1.3.0\n",
      "\u001b[32m✔\u001b[39m \u001b[34mpurrr    \u001b[39m 1.0.2     \n",
      "── \u001b[1mConflicts\u001b[22m ────────────────────────────────────────── tidyverse_conflicts() ──\n",
      "\u001b[31m✖\u001b[39m \u001b[34mdplyr\u001b[39m::\u001b[32mfilter()\u001b[39m masks \u001b[34mstats\u001b[39m::filter()\n",
      "\u001b[31m✖\u001b[39m \u001b[34mdplyr\u001b[39m::\u001b[32mlag()\u001b[39m    masks \u001b[34mstats\u001b[39m::lag()\n",
      "\u001b[36mℹ\u001b[39m Use the conflicted package (\u001b[3m\u001b[34m<http://conflicted.r-lib.org/>\u001b[39m\u001b[23m) to force all conflicts to become errors\n"
     ]
    }
   ],
   "source": [
    "library('tidyverse')\n",
    "library('ggplot2')"
   ]
  },
  {
   "cell_type": "code",
   "execution_count": 3,
   "metadata": {
    "tags": []
   },
   "outputs": [
    {
     "name": "stderr",
     "output_type": "stream",
     "text": [
      "\u001b[1mRows: \u001b[22m\u001b[34m34\u001b[39m \u001b[1mColumns: \u001b[22m\u001b[34m16\u001b[39m\n",
      "\u001b[36m──\u001b[39m \u001b[1mColumn specification\u001b[22m \u001b[36m────────────────────────────────────────────────────────\u001b[39m\n",
      "\u001b[1mDelimiter:\u001b[22m \",\"\n",
      "\u001b[31mchr\u001b[39m  (4): Character, Season_Episode, Dating_flag, Coaching_flag\n",
      "\u001b[32mdbl\u001b[39m (12): Episode_order, Season, Episode, F_count_RK, F_count_total, cum_rk_...\n",
      "\n",
      "\u001b[36mℹ\u001b[39m Use `spec()` to retrieve the full column specification for this data.\n",
      "\u001b[36mℹ\u001b[39m Specify the column types or set `show_col_types = FALSE` to quiet this message.\n"
     ]
    }
   ],
   "source": [
    "richmondway <- readr::read_csv('https://raw.githubusercontent.com/rfordatascience/tidytuesday/master/data/2023/2023-09-26/richmondway.csv')"
   ]
  },
  {
   "cell_type": "markdown",
   "metadata": {},
   "source": [
    "Make a bar chart of the frequency of values for one \"categorical\" column in the data you chose."
   ]
  },
  {
   "cell_type": "code",
   "execution_count": 4,
   "metadata": {
    "tags": []
   },
   "outputs": [
    {
     "data": {
      "text/html": [
       "<table class=\"dataframe\">\n",
       "<caption>A tibble: 6 × 16</caption>\n",
       "<thead>\n",
       "\t<tr><th scope=col>Character</th><th scope=col>Episode_order</th><th scope=col>Season</th><th scope=col>Episode</th><th scope=col>Season_Episode</th><th scope=col>F_count_RK</th><th scope=col>F_count_total</th><th scope=col>cum_rk_season</th><th scope=col>cum_total_season</th><th scope=col>cum_rk_overall</th><th scope=col>cum_total_overall</th><th scope=col>F_score</th><th scope=col>F_perc</th><th scope=col>Dating_flag</th><th scope=col>Coaching_flag</th><th scope=col>Imdb_rating</th></tr>\n",
       "\t<tr><th scope=col>&lt;chr&gt;</th><th scope=col>&lt;dbl&gt;</th><th scope=col>&lt;dbl&gt;</th><th scope=col>&lt;dbl&gt;</th><th scope=col>&lt;chr&gt;</th><th scope=col>&lt;dbl&gt;</th><th scope=col>&lt;dbl&gt;</th><th scope=col>&lt;dbl&gt;</th><th scope=col>&lt;dbl&gt;</th><th scope=col>&lt;dbl&gt;</th><th scope=col>&lt;dbl&gt;</th><th scope=col>&lt;dbl&gt;</th><th scope=col>&lt;dbl&gt;</th><th scope=col>&lt;chr&gt;</th><th scope=col>&lt;chr&gt;</th><th scope=col>&lt;dbl&gt;</th></tr>\n",
       "</thead>\n",
       "<tbody>\n",
       "\t<tr><td>Roy Kent</td><td>1</td><td>1</td><td>1</td><td>S1_e1</td><td>2</td><td>13</td><td> 2</td><td>13</td><td> 2</td><td>13</td><td>0.1538462</td><td>15.4</td><td>No</td><td>No</td><td>7.8</td></tr>\n",
       "\t<tr><td>Roy Kent</td><td>2</td><td>1</td><td>2</td><td>S1_e2</td><td>2</td><td> 8</td><td> 4</td><td>21</td><td> 4</td><td>21</td><td>0.2500000</td><td>25.0</td><td>No</td><td>No</td><td>8.1</td></tr>\n",
       "\t<tr><td>Roy Kent</td><td>3</td><td>1</td><td>3</td><td>S1_e3</td><td>7</td><td>13</td><td>11</td><td>34</td><td>11</td><td>34</td><td>0.5384615</td><td>53.8</td><td>No</td><td>No</td><td>8.5</td></tr>\n",
       "\t<tr><td>Roy Kent</td><td>4</td><td>1</td><td>4</td><td>S1_e4</td><td>8</td><td>17</td><td>19</td><td>51</td><td>19</td><td>51</td><td>0.4705882</td><td>47.1</td><td>No</td><td>No</td><td>8.2</td></tr>\n",
       "\t<tr><td>Roy Kent</td><td>5</td><td>1</td><td>5</td><td>S1_e5</td><td>4</td><td>13</td><td>23</td><td>64</td><td>23</td><td>64</td><td>0.3076923</td><td>30.8</td><td>No</td><td>No</td><td>8.9</td></tr>\n",
       "\t<tr><td>Roy Kent</td><td>6</td><td>1</td><td>6</td><td>S1_e6</td><td>2</td><td> 9</td><td>25</td><td>73</td><td>25</td><td>73</td><td>0.2222222</td><td>22.2</td><td>No</td><td>No</td><td>8.5</td></tr>\n",
       "</tbody>\n",
       "</table>\n"
      ],
      "text/latex": [
       "A tibble: 6 × 16\n",
       "\\begin{tabular}{llllllllllllllll}\n",
       " Character & Episode\\_order & Season & Episode & Season\\_Episode & F\\_count\\_RK & F\\_count\\_total & cum\\_rk\\_season & cum\\_total\\_season & cum\\_rk\\_overall & cum\\_total\\_overall & F\\_score & F\\_perc & Dating\\_flag & Coaching\\_flag & Imdb\\_rating\\\\\n",
       " <chr> & <dbl> & <dbl> & <dbl> & <chr> & <dbl> & <dbl> & <dbl> & <dbl> & <dbl> & <dbl> & <dbl> & <dbl> & <chr> & <chr> & <dbl>\\\\\n",
       "\\hline\n",
       "\t Roy Kent & 1 & 1 & 1 & S1\\_e1 & 2 & 13 &  2 & 13 &  2 & 13 & 0.1538462 & 15.4 & No & No & 7.8\\\\\n",
       "\t Roy Kent & 2 & 1 & 2 & S1\\_e2 & 2 &  8 &  4 & 21 &  4 & 21 & 0.2500000 & 25.0 & No & No & 8.1\\\\\n",
       "\t Roy Kent & 3 & 1 & 3 & S1\\_e3 & 7 & 13 & 11 & 34 & 11 & 34 & 0.5384615 & 53.8 & No & No & 8.5\\\\\n",
       "\t Roy Kent & 4 & 1 & 4 & S1\\_e4 & 8 & 17 & 19 & 51 & 19 & 51 & 0.4705882 & 47.1 & No & No & 8.2\\\\\n",
       "\t Roy Kent & 5 & 1 & 5 & S1\\_e5 & 4 & 13 & 23 & 64 & 23 & 64 & 0.3076923 & 30.8 & No & No & 8.9\\\\\n",
       "\t Roy Kent & 6 & 1 & 6 & S1\\_e6 & 2 &  9 & 25 & 73 & 25 & 73 & 0.2222222 & 22.2 & No & No & 8.5\\\\\n",
       "\\end{tabular}\n"
      ],
      "text/markdown": [
       "\n",
       "A tibble: 6 × 16\n",
       "\n",
       "| Character &lt;chr&gt; | Episode_order &lt;dbl&gt; | Season &lt;dbl&gt; | Episode &lt;dbl&gt; | Season_Episode &lt;chr&gt; | F_count_RK &lt;dbl&gt; | F_count_total &lt;dbl&gt; | cum_rk_season &lt;dbl&gt; | cum_total_season &lt;dbl&gt; | cum_rk_overall &lt;dbl&gt; | cum_total_overall &lt;dbl&gt; | F_score &lt;dbl&gt; | F_perc &lt;dbl&gt; | Dating_flag &lt;chr&gt; | Coaching_flag &lt;chr&gt; | Imdb_rating &lt;dbl&gt; |\n",
       "|---|---|---|---|---|---|---|---|---|---|---|---|---|---|---|---|\n",
       "| Roy Kent | 1 | 1 | 1 | S1_e1 | 2 | 13 |  2 | 13 |  2 | 13 | 0.1538462 | 15.4 | No | No | 7.8 |\n",
       "| Roy Kent | 2 | 1 | 2 | S1_e2 | 2 |  8 |  4 | 21 |  4 | 21 | 0.2500000 | 25.0 | No | No | 8.1 |\n",
       "| Roy Kent | 3 | 1 | 3 | S1_e3 | 7 | 13 | 11 | 34 | 11 | 34 | 0.5384615 | 53.8 | No | No | 8.5 |\n",
       "| Roy Kent | 4 | 1 | 4 | S1_e4 | 8 | 17 | 19 | 51 | 19 | 51 | 0.4705882 | 47.1 | No | No | 8.2 |\n",
       "| Roy Kent | 5 | 1 | 5 | S1_e5 | 4 | 13 | 23 | 64 | 23 | 64 | 0.3076923 | 30.8 | No | No | 8.9 |\n",
       "| Roy Kent | 6 | 1 | 6 | S1_e6 | 2 |  9 | 25 | 73 | 25 | 73 | 0.2222222 | 22.2 | No | No | 8.5 |\n",
       "\n"
      ],
      "text/plain": [
       "  Character Episode_order Season Episode Season_Episode F_count_RK\n",
       "1 Roy Kent  1             1      1       S1_e1          2         \n",
       "2 Roy Kent  2             1      2       S1_e2          2         \n",
       "3 Roy Kent  3             1      3       S1_e3          7         \n",
       "4 Roy Kent  4             1      4       S1_e4          8         \n",
       "5 Roy Kent  5             1      5       S1_e5          4         \n",
       "6 Roy Kent  6             1      6       S1_e6          2         \n",
       "  F_count_total cum_rk_season cum_total_season cum_rk_overall cum_total_overall\n",
       "1 13             2            13                2             13               \n",
       "2  8             4            21                4             21               \n",
       "3 13            11            34               11             34               \n",
       "4 17            19            51               19             51               \n",
       "5 13            23            64               23             64               \n",
       "6  9            25            73               25             73               \n",
       "  F_score   F_perc Dating_flag Coaching_flag Imdb_rating\n",
       "1 0.1538462 15.4   No          No            7.8        \n",
       "2 0.2500000 25.0   No          No            8.1        \n",
       "3 0.5384615 53.8   No          No            8.5        \n",
       "4 0.4705882 47.1   No          No            8.2        \n",
       "5 0.3076923 30.8   No          No            8.9        \n",
       "6 0.2222222 22.2   No          No            8.5        "
      ]
     },
     "metadata": {},
     "output_type": "display_data"
    }
   ],
   "source": [
    "richmondway |> head()"
   ]
  },
  {
   "cell_type": "code",
   "execution_count": 5,
   "metadata": {
    "tags": []
   },
   "outputs": [],
   "source": [
    "richmondway_sorted = richmondway |>\n",
    "    mutate(Coaching_flag = Coaching_flag |> fct_infreq() |> fct_rev())"
   ]
  },
  {
   "cell_type": "code",
   "execution_count": 6,
   "metadata": {
    "tags": []
   },
   "outputs": [
    {
     "data": {
      "image/png": "[encoded data removed]",
      "text/plain": [
       "plot without title"
      ]
     },
     "metadata": {
      "image/png": {
       "height": 420,
       "width": 420
      }
     },
     "output_type": "display_data"
    }
   ],
   "source": [
    "p = ggplot(richmondway_sorted, aes(y = Coaching_flag)) + geom_bar()\n",
    "\n",
    "p"
   ]
  },
  {
   "cell_type": "code",
   "execution_count": 9,
   "metadata": {
    "tags": []
   },
   "outputs": [
    {
     "name": "stderr",
     "output_type": "stream",
     "text": [
      "\u001b[1mRows: \u001b[22m\u001b[34m194\u001b[39m \u001b[1mColumns: \u001b[22m\u001b[34m29\u001b[39m\n",
      "\u001b[36m──\u001b[39m \u001b[1mColumn specification\u001b[22m \u001b[36m────────────────────────────────────────────────────────\u001b[39m\n",
      "\u001b[1mDelimiter:\u001b[22m \",\"\n",
      "\u001b[31mchr\u001b[39m   (7): album_name, track_name, artist, featuring, key_name, mode_name, k...\n",
      "\u001b[32mdbl\u001b[39m  (14): track_number, danceability, energy, key, loudness, mode, speechin...\n",
      "\u001b[33mlgl\u001b[39m   (4): ep, bonus_track, explicit, lyrics\n",
      "\u001b[34mdate\u001b[39m  (4): album_release, promotional_release, single_release, track_release\n",
      "\n",
      "\u001b[36mℹ\u001b[39m Use `spec()` to retrieve the full column specification for this data.\n",
      "\u001b[36mℹ\u001b[39m Specify the column types or set `show_col_types = FALSE` to quiet this message.\n",
      "\u001b[1mRows: \u001b[22m\u001b[34m274\u001b[39m \u001b[1mColumns: \u001b[22m\u001b[34m29\u001b[39m\n",
      "\u001b[36m──\u001b[39m \u001b[1mColumn specification\u001b[22m \u001b[36m────────────────────────────────────────────────────────\u001b[39m\n",
      "\u001b[1mDelimiter:\u001b[22m \",\"\n",
      "\u001b[31mchr\u001b[39m   (7): album_name, track_name, artist, featuring, key_name, mode_name, k...\n",
      "\u001b[32mdbl\u001b[39m  (14): track_number, danceability, energy, key, loudness, mode, speechin...\n",
      "\u001b[33mlgl\u001b[39m   (4): ep, bonus_track, explicit, lyrics\n",
      "\u001b[34mdate\u001b[39m  (4): album_release, promotional_release, single_release, track_release\n",
      "\n",
      "\u001b[36mℹ\u001b[39m Use `spec()` to retrieve the full column specification for this data.\n",
      "\u001b[36mℹ\u001b[39m Specify the column types or set `show_col_types = FALSE` to quiet this message.\n",
      "\u001b[1mRows: \u001b[22m\u001b[34m14\u001b[39m \u001b[1mColumns: \u001b[22m\u001b[34m5\u001b[39m\n",
      "\u001b[36m──\u001b[39m \u001b[1mColumn specification\u001b[22m \u001b[36m────────────────────────────────────────────────────────\u001b[39m\n",
      "\u001b[1mDelimiter:\u001b[22m \",\"\n",
      "\u001b[31mchr\u001b[39m  (1): album_name\n",
      "\u001b[32mdbl\u001b[39m  (2): metacritic_score, user_score\n",
      "\u001b[33mlgl\u001b[39m  (1): ep\n",
      "\u001b[34mdate\u001b[39m (1): album_release\n",
      "\n",
      "\u001b[36mℹ\u001b[39m Use `spec()` to retrieve the full column specification for this data.\n",
      "\u001b[36mℹ\u001b[39m Specify the column types or set `show_col_types = FALSE` to quiet this message.\n"
     ]
    }
   ],
   "source": [
    "taylor_album_songs <- readr::read_csv('https://raw.githubusercontent.com/rfordatascience/tidytuesday/master/data/2023/2023-10-17/taylor_album_songs.csv')\n",
    "taylor_all_songs <- readr::read_csv('https://raw.githubusercontent.com/rfordatascience/tidytuesday/master/data/2023/2023-10-17/taylor_all_songs.csv')\n",
    "taylor_albums <- readr::read_csv('https://raw.githubusercontent.com/rfordatascience/tidytuesday/master/data/2023/2023-10-17/taylor_albums.csv')"
   ]
  },
  {
   "cell_type": "code",
   "execution_count": 10,
   "metadata": {
    "tags": []
   },
   "outputs": [
    {
     "data": {
      "text/html": [
       "<table class=\"dataframe\">\n",
       "<caption>A tibble: 6 × 29</caption>\n",
       "<thead>\n",
       "\t<tr><th scope=col>album_name</th><th scope=col>ep</th><th scope=col>album_release</th><th scope=col>track_number</th><th scope=col>track_name</th><th scope=col>artist</th><th scope=col>featuring</th><th scope=col>bonus_track</th><th scope=col>promotional_release</th><th scope=col>single_release</th><th scope=col>⋯</th><th scope=col>liveness</th><th scope=col>valence</th><th scope=col>tempo</th><th scope=col>time_signature</th><th scope=col>duration_ms</th><th scope=col>explicit</th><th scope=col>key_name</th><th scope=col>mode_name</th><th scope=col>key_mode</th><th scope=col>lyrics</th></tr>\n",
       "\t<tr><th scope=col>&lt;chr&gt;</th><th scope=col>&lt;lgl&gt;</th><th scope=col>&lt;date&gt;</th><th scope=col>&lt;dbl&gt;</th><th scope=col>&lt;chr&gt;</th><th scope=col>&lt;chr&gt;</th><th scope=col>&lt;chr&gt;</th><th scope=col>&lt;lgl&gt;</th><th scope=col>&lt;date&gt;</th><th scope=col>&lt;date&gt;</th><th scope=col>⋯</th><th scope=col>&lt;dbl&gt;</th><th scope=col>&lt;dbl&gt;</th><th scope=col>&lt;dbl&gt;</th><th scope=col>&lt;dbl&gt;</th><th scope=col>&lt;dbl&gt;</th><th scope=col>&lt;lgl&gt;</th><th scope=col>&lt;chr&gt;</th><th scope=col>&lt;chr&gt;</th><th scope=col>&lt;chr&gt;</th><th scope=col>&lt;lgl&gt;</th></tr>\n",
       "</thead>\n",
       "<tbody>\n",
       "\t<tr><td>Taylor Swift</td><td>FALSE</td><td>2006-10-24</td><td>1</td><td>Tim McGraw            </td><td>Taylor Swift</td><td>NA</td><td>FALSE</td><td>NA</td><td>2006-06-19</td><td>⋯</td><td>0.1210</td><td>0.425</td><td> 76.009</td><td>4</td><td>232107</td><td>FALSE</td><td>C </td><td>major</td><td>C major </td><td>NA</td></tr>\n",
       "\t<tr><td>Taylor Swift</td><td>FALSE</td><td>2006-10-24</td><td>2</td><td>Picture To Burn       </td><td>Taylor Swift</td><td>NA</td><td>FALSE</td><td>NA</td><td>2008-02-03</td><td>⋯</td><td>0.0962</td><td>0.821</td><td>105.586</td><td>4</td><td>173067</td><td>FALSE</td><td>G </td><td>major</td><td>G major </td><td>NA</td></tr>\n",
       "\t<tr><td>Taylor Swift</td><td>FALSE</td><td>2006-10-24</td><td>3</td><td>Teardrops On My Guitar</td><td>Taylor Swift</td><td>NA</td><td>FALSE</td><td>NA</td><td>2007-02-19</td><td>⋯</td><td>0.1190</td><td>0.289</td><td> 99.953</td><td>4</td><td>203040</td><td>FALSE</td><td>A#</td><td>major</td><td>A# major</td><td>NA</td></tr>\n",
       "\t<tr><td>Taylor Swift</td><td>FALSE</td><td>2006-10-24</td><td>4</td><td>A Place In This World </td><td>Taylor Swift</td><td>NA</td><td>FALSE</td><td>NA</td><td>NA</td><td>⋯</td><td>0.3200</td><td>0.428</td><td>115.028</td><td>4</td><td>199200</td><td>FALSE</td><td>A </td><td>major</td><td>A major </td><td>NA</td></tr>\n",
       "\t<tr><td>Taylor Swift</td><td>FALSE</td><td>2006-10-24</td><td>5</td><td>Cold As You           </td><td>Taylor Swift</td><td>NA</td><td>FALSE</td><td>NA</td><td>NA</td><td>⋯</td><td>0.1230</td><td>0.261</td><td>175.558</td><td>4</td><td>239013</td><td>FALSE</td><td>F </td><td>major</td><td>F major </td><td>NA</td></tr>\n",
       "\t<tr><td>Taylor Swift</td><td>FALSE</td><td>2006-10-24</td><td>6</td><td>The Outside           </td><td>Taylor Swift</td><td>NA</td><td>FALSE</td><td>NA</td><td>NA</td><td>⋯</td><td>0.2400</td><td>0.591</td><td>112.982</td><td>4</td><td>207107</td><td>FALSE</td><td>F </td><td>major</td><td>F major </td><td>NA</td></tr>\n",
       "</tbody>\n",
       "</table>\n"
      ],
      "text/latex": [
       "A tibble: 6 × 29\n",
       "\\begin{tabular}{lllllllllllllllllllll}\n",
       " album\\_name & ep & album\\_release & track\\_number & track\\_name & artist & featuring & bonus\\_track & promotional\\_release & single\\_release & ⋯ & liveness & valence & tempo & time\\_signature & duration\\_ms & explicit & key\\_name & mode\\_name & key\\_mode & lyrics\\\\\n",
       " <chr> & <lgl> & <date> & <dbl> & <chr> & <chr> & <chr> & <lgl> & <date> & <date> & ⋯ & <dbl> & <dbl> & <dbl> & <dbl> & <dbl> & <lgl> & <chr> & <chr> & <chr> & <lgl>\\\\\n",
       "\\hline\n",
       "\t Taylor Swift & FALSE & 2006-10-24 & 1 & Tim McGraw             & Taylor Swift & NA & FALSE & NA & 2006-06-19 & ⋯ & 0.1210 & 0.425 &  76.009 & 4 & 232107 & FALSE & C  & major & C major  & NA\\\\\n",
       "\t Taylor Swift & FALSE & 2006-10-24 & 2 & Picture To Burn        & Taylor Swift & NA & FALSE & NA & 2008-02-03 & ⋯ & 0.0962 & 0.821 & 105.586 & 4 & 173067 & FALSE & G  & major & G major  & NA\\\\\n",
       "\t Taylor Swift & FALSE & 2006-10-24 & 3 & Teardrops On My Guitar & Taylor Swift & NA & FALSE & NA & 2007-02-19 & ⋯ & 0.1190 & 0.289 &  99.953 & 4 & 203040 & FALSE & A\\# & major & A\\# major & NA\\\\\n",
       "\t Taylor Swift & FALSE & 2006-10-24 & 4 & A Place In This World  & Taylor Swift & NA & FALSE & NA & NA & ⋯ & 0.3200 & 0.428 & 115.028 & 4 & 199200 & FALSE & A  & major & A major  & NA\\\\\n",
       "\t Taylor Swift & FALSE & 2006-10-24 & 5 & Cold As You            & Taylor Swift & NA & FALSE & NA & NA & ⋯ & 0.1230 & 0.261 & 175.558 & 4 & 239013 & FALSE & F  & major & F major  & NA\\\\\n",
       "\t Taylor Swift & FALSE & 2006-10-24 & 6 & The Outside            & Taylor Swift & NA & FALSE & NA & NA & ⋯ & 0.2400 & 0.591 & 112.982 & 4 & 207107 & FALSE & F  & major & F major  & NA\\\\\n",
       "\\end{tabular}\n"
      ],
      "text/markdown": [
       "\n",
       "A tibble: 6 × 29\n",
       "\n",
       "| album_name &lt;chr&gt; | ep &lt;lgl&gt; | album_release &lt;date&gt; | track_number &lt;dbl&gt; | track_name &lt;chr&gt; | artist &lt;chr&gt; | featuring &lt;chr&gt; | bonus_track &lt;lgl&gt; | promotional_release &lt;date&gt; | single_release &lt;date&gt; | ⋯ ⋯ | liveness &lt;dbl&gt; | valence &lt;dbl&gt; | tempo &lt;dbl&gt; | time_signature &lt;dbl&gt; | duration_ms &lt;dbl&gt; | explicit &lt;lgl&gt; | key_name &lt;chr&gt; | mode_name &lt;chr&gt; | key_mode &lt;chr&gt; | lyrics &lt;lgl&gt; |\n",
       "|---|---|---|---|---|---|---|---|---|---|---|---|---|---|---|---|---|---|---|---|---|\n",
       "| Taylor Swift | FALSE | 2006-10-24 | 1 | Tim McGraw             | Taylor Swift | NA | FALSE | NA | 2006-06-19 | ⋯ | 0.1210 | 0.425 |  76.009 | 4 | 232107 | FALSE | C  | major | C major  | NA |\n",
       "| Taylor Swift | FALSE | 2006-10-24 | 2 | Picture To Burn        | Taylor Swift | NA | FALSE | NA | 2008-02-03 | ⋯ | 0.0962 | 0.821 | 105.586 | 4 | 173067 | FALSE | G  | major | G major  | NA |\n",
       "| Taylor Swift | FALSE | 2006-10-24 | 3 | Teardrops On My Guitar | Taylor Swift | NA | FALSE | NA | 2007-02-19 | ⋯ | 0.1190 | 0.289 |  99.953 | 4 | 203040 | FALSE | A# | major | A# major | NA |\n",
       "| Taylor Swift | FALSE | 2006-10-24 | 4 | A Place In This World  | Taylor Swift | NA | FALSE | NA | NA | ⋯ | 0.3200 | 0.428 | 115.028 | 4 | 199200 | FALSE | A  | major | A major  | NA |\n",
       "| Taylor Swift | FALSE | 2006-10-24 | 5 | Cold As You            | Taylor Swift | NA | FALSE | NA | NA | ⋯ | 0.1230 | 0.261 | 175.558 | 4 | 239013 | FALSE | F  | major | F major  | NA |\n",
       "| Taylor Swift | FALSE | 2006-10-24 | 6 | The Outside            | Taylor Swift | NA | FALSE | NA | NA | ⋯ | 0.2400 | 0.591 | 112.982 | 4 | 207107 | FALSE | F  | major | F major  | NA |\n",
       "\n"
      ],
      "text/plain": [
       "  album_name   ep    album_release track_number track_name            \n",
       "1 Taylor Swift FALSE 2006-10-24    1            Tim McGraw            \n",
       "2 Taylor Swift FALSE 2006-10-24    2            Picture To Burn       \n",
       "3 Taylor Swift FALSE 2006-10-24    3            Teardrops On My Guitar\n",
       "4 Taylor Swift FALSE 2006-10-24    4            A Place In This World \n",
       "5 Taylor Swift FALSE 2006-10-24    5            Cold As You           \n",
       "6 Taylor Swift FALSE 2006-10-24    6            The Outside           \n",
       "  artist       featuring bonus_track promotional_release single_release ⋯\n",
       "1 Taylor Swift NA        FALSE       <NA>                2006-06-19     ⋯\n",
       "2 Taylor Swift NA        FALSE       <NA>                2008-02-03     ⋯\n",
       "3 Taylor Swift NA        FALSE       <NA>                2007-02-19     ⋯\n",
       "4 Taylor Swift NA        FALSE       <NA>                <NA>           ⋯\n",
       "5 Taylor Swift NA        FALSE       <NA>                <NA>           ⋯\n",
       "6 Taylor Swift NA        FALSE       <NA>                <NA>           ⋯\n",
       "  liveness valence tempo   time_signature duration_ms explicit key_name\n",
       "1 0.1210   0.425    76.009 4              232107      FALSE    C       \n",
       "2 0.0962   0.821   105.586 4              173067      FALSE    G       \n",
       "3 0.1190   0.289    99.953 4              203040      FALSE    A#      \n",
       "4 0.3200   0.428   115.028 4              199200      FALSE    A       \n",
       "5 0.1230   0.261   175.558 4              239013      FALSE    F       \n",
       "6 0.2400   0.591   112.982 4              207107      FALSE    F       \n",
       "  mode_name key_mode lyrics\n",
       "1 major     C major  NA    \n",
       "2 major     G major  NA    \n",
       "3 major     A# major NA    \n",
       "4 major     A major  NA    \n",
       "5 major     F major  NA    \n",
       "6 major     F major  NA    "
      ]
     },
     "metadata": {},
     "output_type": "display_data"
    }
   ],
   "source": [
    "taylor_album_songs |> head()"
   ]
  },
  {
   "cell_type": "code",
   "execution_count": 11,
   "metadata": {
    "tags": []
   },
   "outputs": [],
   "source": [
    "tay_albums = taylor_album_songs |>\n",
    "    mutate(album_name = album_name |> fct_infreq() |> fct_rev())"
   ]
  },
  {
   "cell_type": "code",
   "execution_count": 12,
   "metadata": {
    "tags": []
   },
   "outputs": [
    {
     "data": {
      "image/png": "[encoded data removed]",
      "text/plain": [
       "plot without title"
      ]
     },
     "metadata": {
      "image/png": {
       "height": 420,
       "width": 420
      }
     },
     "output_type": "display_data"
    }
   ],
   "source": [
    "p = ggplot(tay_albums, aes(y = album_name)) + geom_bar()\n",
    "\n",
    "p"
   ]
  },
  {
   "cell_type": "markdown",
   "metadata": {},
   "source": [
    "## 🛑 wait for the `forcats` lecture before moving to the next step..."
   ]
  },
  {
   "cell_type": "markdown",
   "metadata": {},
   "source": [
    "Using `forcats` functions, plot an ordered example of your bar chart from above. Don't forget to \"lump\" low frequency values."
   ]
  },
  {
   "cell_type": "code",
   "execution_count": 15,
   "metadata": {
    "tags": []
   },
   "outputs": [],
   "source": [
    "tay_albums = taylor_album_songs |>\n",
    "    mutate(album_name = album_name |> fct_infreq() |> fct_rev() |>\n",
    "           fct_lump_min(20))"
   ]
  },
  {
   "cell_type": "code",
   "execution_count": 16,
   "metadata": {
    "tags": []
   },
   "outputs": [
    {
     "data": {
      "image/png": "[encoded data removed]",
      "text/plain": [
       "plot without title"
      ]
     },
     "metadata": {
      "image/png": {
       "height": 420,
       "width": 420
      }
     },
     "output_type": "display_data"
    }
   ],
   "source": [
    "p2 = ggplot(tay_albums, aes(y = album_name)) + geom_bar()\n",
    "\n",
    "p2"
   ]
  },
  {
   "cell_type": "code",
   "execution_count": null,
   "metadata": {},
   "outputs": [],
   "source": []
  }
 ],
 "metadata": {
  "kernelspec": {
   "display_name": "bios512:R",
   "language": "R",
   "name": "conda-env-bios512-r"
  },
  "language_info": {
   "codemirror_mode": "r",
   "file_extension": ".r",
   "mimetype": "text/x-r-source",
   "name": "R",
   "pygments_lexer": "r",
   "version": "4.3.1"
  }
 },
 "nbformat": 4,
 "nbformat_minor": 4
}
