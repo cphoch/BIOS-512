{
 "cells": [
  {
   "cell_type": "code",
   "execution_count": 1,
   "metadata": {
    "tags": []
   },
   "outputs": [
    {
     "name": "stderr",
     "output_type": "stream",
     "text": [
      "Warning message:\n",
      "“Failed to locate timezone database”\n",
      "── \u001b[1mAttaching core tidyverse packages\u001b[22m ──────────────────────── tidyverse 2.0.0 ──\n",
      "\u001b[32m✔\u001b[39m \u001b[34mdplyr    \u001b[39m 1.1.3     \u001b[32m✔\u001b[39m \u001b[34mreadr    \u001b[39m 2.1.4\n",
      "\u001b[32m✔\u001b[39m \u001b[34mforcats  \u001b[39m 1.0.0     \u001b[32m✔\u001b[39m \u001b[34mstringr  \u001b[39m 1.5.0\n",
      "\u001b[32m✔\u001b[39m \u001b[34mggplot2  \u001b[39m 3.4.3     \u001b[32m✔\u001b[39m \u001b[34mtibble   \u001b[39m 3.2.1\n",
      "\u001b[32m✔\u001b[39m \u001b[34mlubridate\u001b[39m 1.9.2     \u001b[32m✔\u001b[39m \u001b[34mtidyr    \u001b[39m 1.3.0\n",
      "\u001b[32m✔\u001b[39m \u001b[34mpurrr    \u001b[39m 1.0.2     \n",
      "── \u001b[1mConflicts\u001b[22m ────────────────────────────────────────── tidyverse_conflicts() ──\n",
      "\u001b[31m✖\u001b[39m \u001b[34mdplyr\u001b[39m::\u001b[32mfilter()\u001b[39m masks \u001b[34mstats\u001b[39m::filter()\n",
      "\u001b[31m✖\u001b[39m \u001b[34mdplyr\u001b[39m::\u001b[32mlag()\u001b[39m    masks \u001b[34mstats\u001b[39m::lag()\n",
      "\u001b[36mℹ\u001b[39m Use the conflicted package (\u001b[3m\u001b[34m<http://conflicted.r-lib.org/>\u001b[39m\u001b[23m) to force all conflicts to become errors\n"
     ]
    }
   ],
   "source": [
    "library('tidyverse')"
   ]
  },
  {
   "cell_type": "code",
   "execution_count": 2,
   "metadata": {
    "tags": []
   },
   "outputs": [
    {
     "data": {
      "text/html": [
       "<table class=\"dataframe\">\n",
       "<caption>A data.frame: 6 × 7</caption>\n",
       "<thead>\n",
       "\t<tr><th></th><th scope=col>year</th><th scope=col>name</th><th scope=col>country</th><th scope=col>time</th><th scope=col>race.time</th><th scope=col>MF</th><th scope=col>country.simple</th></tr>\n",
       "\t<tr><th></th><th scope=col>&lt;int&gt;</th><th scope=col>&lt;chr&gt;</th><th scope=col>&lt;chr&gt;</th><th scope=col>&lt;chr&gt;</th><th scope=col>&lt;dbl&gt;</th><th scope=col>&lt;chr&gt;</th><th scope=col>&lt;chr&gt;</th></tr>\n",
       "</thead>\n",
       "<tbody>\n",
       "\t<tr><th scope=row>1</th><td>2019</td><td>Lawrence Cherono          </td><td>Kenya        </td><td>2H 7M 57S </td><td>2.132500</td><td>Men's</td><td>Kenya        </td></tr>\n",
       "\t<tr><th scope=row>2</th><td>2018</td><td>Yuki Kawauchi             </td><td>Japan        </td><td>2H 15M 58S</td><td>2.266111</td><td>Men's</td><td>Japan        </td></tr>\n",
       "\t<tr><th scope=row>3</th><td>2017</td><td>Geoffrey Kirui            </td><td>Kenya        </td><td>2H 9M 37S </td><td>2.160278</td><td>Men's</td><td>Kenya        </td></tr>\n",
       "\t<tr><th scope=row>4</th><td>2016</td><td>Lemi Berhanu              </td><td>Ethiopia     </td><td>2H 12M 45S</td><td>2.212500</td><td>Men's</td><td>Ethiopia     </td></tr>\n",
       "\t<tr><th scope=row>5</th><td>2015</td><td>Lelisa Desisa             </td><td>Ethiopia     </td><td>2H 9M 17S </td><td>2.154722</td><td>Men's</td><td>Ethiopia     </td></tr>\n",
       "\t<tr><th scope=row>6</th><td>2014</td><td>Mebrahtom \"Meb\" Keflezighi</td><td>United States</td><td>2H 8M 37S </td><td>2.143611</td><td>Men's</td><td>United States</td></tr>\n",
       "</tbody>\n",
       "</table>\n"
      ],
      "text/latex": [
       "A data.frame: 6 × 7\n",
       "\\begin{tabular}{r|lllllll}\n",
       "  & year & name & country & time & race.time & MF & country.simple\\\\\n",
       "  & <int> & <chr> & <chr> & <chr> & <dbl> & <chr> & <chr>\\\\\n",
       "\\hline\n",
       "\t1 & 2019 & Lawrence Cherono           & Kenya         & 2H 7M 57S  & 2.132500 & Men's & Kenya        \\\\\n",
       "\t2 & 2018 & Yuki Kawauchi              & Japan         & 2H 15M 58S & 2.266111 & Men's & Japan        \\\\\n",
       "\t3 & 2017 & Geoffrey Kirui             & Kenya         & 2H 9M 37S  & 2.160278 & Men's & Kenya        \\\\\n",
       "\t4 & 2016 & Lemi Berhanu               & Ethiopia      & 2H 12M 45S & 2.212500 & Men's & Ethiopia     \\\\\n",
       "\t5 & 2015 & Lelisa Desisa              & Ethiopia      & 2H 9M 17S  & 2.154722 & Men's & Ethiopia     \\\\\n",
       "\t6 & 2014 & Mebrahtom \"Meb\" Keflezighi & United States & 2H 8M 37S  & 2.143611 & Men's & United States\\\\\n",
       "\\end{tabular}\n"
      ],
      "text/markdown": [
       "\n",
       "A data.frame: 6 × 7\n",
       "\n",
       "| <!--/--> | year &lt;int&gt; | name &lt;chr&gt; | country &lt;chr&gt; | time &lt;chr&gt; | race.time &lt;dbl&gt; | MF &lt;chr&gt; | country.simple &lt;chr&gt; |\n",
       "|---|---|---|---|---|---|---|---|\n",
       "| 1 | 2019 | Lawrence Cherono           | Kenya         | 2H 7M 57S  | 2.132500 | Men's | Kenya         |\n",
       "| 2 | 2018 | Yuki Kawauchi              | Japan         | 2H 15M 58S | 2.266111 | Men's | Japan         |\n",
       "| 3 | 2017 | Geoffrey Kirui             | Kenya         | 2H 9M 37S  | 2.160278 | Men's | Kenya         |\n",
       "| 4 | 2016 | Lemi Berhanu               | Ethiopia      | 2H 12M 45S | 2.212500 | Men's | Ethiopia      |\n",
       "| 5 | 2015 | Lelisa Desisa              | Ethiopia      | 2H 9M 17S  | 2.154722 | Men's | Ethiopia      |\n",
       "| 6 | 2014 | Mebrahtom \"Meb\" Keflezighi | United States | 2H 8M 37S  | 2.143611 | Men's | United States |\n",
       "\n"
      ],
      "text/plain": [
       "  year name                       country       time       race.time MF   \n",
       "1 2019 Lawrence Cherono           Kenya         2H 7M 57S  2.132500  Men's\n",
       "2 2018 Yuki Kawauchi              Japan         2H 15M 58S 2.266111  Men's\n",
       "3 2017 Geoffrey Kirui             Kenya         2H 9M 37S  2.160278  Men's\n",
       "4 2016 Lemi Berhanu               Ethiopia      2H 12M 45S 2.212500  Men's\n",
       "5 2015 Lelisa Desisa              Ethiopia      2H 9M 17S  2.154722  Men's\n",
       "6 2014 Mebrahtom \"Meb\" Keflezighi United States 2H 8M 37S  2.143611  Men's\n",
       "  country.simple\n",
       "1 Kenya         \n",
       "2 Japan         \n",
       "3 Kenya         \n",
       "4 Ethiopia      \n",
       "5 Ethiopia      \n",
       "6 United States "
      ]
     },
     "metadata": {},
     "output_type": "display_data"
    }
   ],
   "source": [
    "df.marathon = read.csv('../data/marathon.csv')\n",
    "df.marathon |> head()"
   ]
  },
  {
   "cell_type": "markdown",
   "metadata": {},
   "source": [
    "# Filter"
   ]
  },
  {
   "cell_type": "markdown",
   "metadata": {},
   "source": [
    "- the filter operation does exactly what you expect given its name."
   ]
  },
  {
   "cell_type": "code",
   "execution_count": 3,
   "metadata": {
    "tags": []
   },
   "outputs": [
    {
     "data": {
      "text/html": [
       "<table class=\"dataframe\">\n",
       "<caption>A data.frame: 16 × 5</caption>\n",
       "<thead>\n",
       "\t<tr><th scope=col>Sepal.Length</th><th scope=col>Sepal.Width</th><th scope=col>Petal.Length</th><th scope=col>Petal.Width</th><th scope=col>Species</th></tr>\n",
       "\t<tr><th scope=col>&lt;dbl&gt;</th><th scope=col>&lt;dbl&gt;</th><th scope=col>&lt;dbl&gt;</th><th scope=col>&lt;dbl&gt;</th><th scope=col>&lt;fct&gt;</th></tr>\n",
       "</thead>\n",
       "<tbody>\n",
       "\t<tr><td>5.4</td><td>3.9</td><td>1.7</td><td>0.4</td><td>setosa</td></tr>\n",
       "\t<tr><td>4.6</td><td>3.4</td><td>1.4</td><td>0.3</td><td>setosa</td></tr>\n",
       "\t<tr><td>5.7</td><td>4.4</td><td>1.5</td><td>0.4</td><td>setosa</td></tr>\n",
       "\t<tr><td>5.4</td><td>3.9</td><td>1.3</td><td>0.4</td><td>setosa</td></tr>\n",
       "\t<tr><td>5.1</td><td>3.5</td><td>1.4</td><td>0.3</td><td>setosa</td></tr>\n",
       "\t<tr><td>5.7</td><td>3.8</td><td>1.7</td><td>0.3</td><td>setosa</td></tr>\n",
       "\t<tr><td>5.1</td><td>3.8</td><td>1.5</td><td>0.3</td><td>setosa</td></tr>\n",
       "\t<tr><td>5.1</td><td>3.7</td><td>1.5</td><td>0.4</td><td>setosa</td></tr>\n",
       "\t<tr><td>5.1</td><td>3.3</td><td>1.7</td><td>0.5</td><td>setosa</td></tr>\n",
       "\t<tr><td>5.0</td><td>3.4</td><td>1.6</td><td>0.4</td><td>setosa</td></tr>\n",
       "\t<tr><td>5.4</td><td>3.4</td><td>1.5</td><td>0.4</td><td>setosa</td></tr>\n",
       "\t<tr><td>5.0</td><td>3.5</td><td>1.3</td><td>0.3</td><td>setosa</td></tr>\n",
       "\t<tr><td>4.5</td><td>2.3</td><td>1.3</td><td>0.3</td><td>setosa</td></tr>\n",
       "\t<tr><td>5.0</td><td>3.5</td><td>1.6</td><td>0.6</td><td>setosa</td></tr>\n",
       "\t<tr><td>5.1</td><td>3.8</td><td>1.9</td><td>0.4</td><td>setosa</td></tr>\n",
       "\t<tr><td>4.8</td><td>3.0</td><td>1.4</td><td>0.3</td><td>setosa</td></tr>\n",
       "</tbody>\n",
       "</table>\n"
      ],
      "text/latex": [
       "A data.frame: 16 × 5\n",
       "\\begin{tabular}{lllll}\n",
       " Sepal.Length & Sepal.Width & Petal.Length & Petal.Width & Species\\\\\n",
       " <dbl> & <dbl> & <dbl> & <dbl> & <fct>\\\\\n",
       "\\hline\n",
       "\t 5.4 & 3.9 & 1.7 & 0.4 & setosa\\\\\n",
       "\t 4.6 & 3.4 & 1.4 & 0.3 & setosa\\\\\n",
       "\t 5.7 & 4.4 & 1.5 & 0.4 & setosa\\\\\n",
       "\t 5.4 & 3.9 & 1.3 & 0.4 & setosa\\\\\n",
       "\t 5.1 & 3.5 & 1.4 & 0.3 & setosa\\\\\n",
       "\t 5.7 & 3.8 & 1.7 & 0.3 & setosa\\\\\n",
       "\t 5.1 & 3.8 & 1.5 & 0.3 & setosa\\\\\n",
       "\t 5.1 & 3.7 & 1.5 & 0.4 & setosa\\\\\n",
       "\t 5.1 & 3.3 & 1.7 & 0.5 & setosa\\\\\n",
       "\t 5.0 & 3.4 & 1.6 & 0.4 & setosa\\\\\n",
       "\t 5.4 & 3.4 & 1.5 & 0.4 & setosa\\\\\n",
       "\t 5.0 & 3.5 & 1.3 & 0.3 & setosa\\\\\n",
       "\t 4.5 & 2.3 & 1.3 & 0.3 & setosa\\\\\n",
       "\t 5.0 & 3.5 & 1.6 & 0.6 & setosa\\\\\n",
       "\t 5.1 & 3.8 & 1.9 & 0.4 & setosa\\\\\n",
       "\t 4.8 & 3.0 & 1.4 & 0.3 & setosa\\\\\n",
       "\\end{tabular}\n"
      ],
      "text/markdown": [
       "\n",
       "A data.frame: 16 × 5\n",
       "\n",
       "| Sepal.Length &lt;dbl&gt; | Sepal.Width &lt;dbl&gt; | Petal.Length &lt;dbl&gt; | Petal.Width &lt;dbl&gt; | Species &lt;fct&gt; |\n",
       "|---|---|---|---|---|\n",
       "| 5.4 | 3.9 | 1.7 | 0.4 | setosa |\n",
       "| 4.6 | 3.4 | 1.4 | 0.3 | setosa |\n",
       "| 5.7 | 4.4 | 1.5 | 0.4 | setosa |\n",
       "| 5.4 | 3.9 | 1.3 | 0.4 | setosa |\n",
       "| 5.1 | 3.5 | 1.4 | 0.3 | setosa |\n",
       "| 5.7 | 3.8 | 1.7 | 0.3 | setosa |\n",
       "| 5.1 | 3.8 | 1.5 | 0.3 | setosa |\n",
       "| 5.1 | 3.7 | 1.5 | 0.4 | setosa |\n",
       "| 5.1 | 3.3 | 1.7 | 0.5 | setosa |\n",
       "| 5.0 | 3.4 | 1.6 | 0.4 | setosa |\n",
       "| 5.4 | 3.4 | 1.5 | 0.4 | setosa |\n",
       "| 5.0 | 3.5 | 1.3 | 0.3 | setosa |\n",
       "| 4.5 | 2.3 | 1.3 | 0.3 | setosa |\n",
       "| 5.0 | 3.5 | 1.6 | 0.6 | setosa |\n",
       "| 5.1 | 3.8 | 1.9 | 0.4 | setosa |\n",
       "| 4.8 | 3.0 | 1.4 | 0.3 | setosa |\n",
       "\n"
      ],
      "text/plain": [
       "   Sepal.Length Sepal.Width Petal.Length Petal.Width Species\n",
       "1  5.4          3.9         1.7          0.4         setosa \n",
       "2  4.6          3.4         1.4          0.3         setosa \n",
       "3  5.7          4.4         1.5          0.4         setosa \n",
       "4  5.4          3.9         1.3          0.4         setosa \n",
       "5  5.1          3.5         1.4          0.3         setosa \n",
       "6  5.7          3.8         1.7          0.3         setosa \n",
       "7  5.1          3.8         1.5          0.3         setosa \n",
       "8  5.1          3.7         1.5          0.4         setosa \n",
       "9  5.1          3.3         1.7          0.5         setosa \n",
       "10 5.0          3.4         1.6          0.4         setosa \n",
       "11 5.4          3.4         1.5          0.4         setosa \n",
       "12 5.0          3.5         1.3          0.3         setosa \n",
       "13 4.5          2.3         1.3          0.3         setosa \n",
       "14 5.0          3.5         1.6          0.6         setosa \n",
       "15 5.1          3.8         1.9          0.4         setosa \n",
       "16 4.8          3.0         1.4          0.3         setosa "
      ]
     },
     "metadata": {},
     "output_type": "display_data"
    }
   ],
   "source": [
    "# e.g.\n",
    "\n",
    "iris |> filter(Species == 'setosa', Petal.Width > 0.2)"
   ]
  },
  {
   "cell_type": "markdown",
   "metadata": {},
   "source": [
    "- The syntax for the `equals` operator in R is `==`.\n",
    "- Greater than (`>` or `>=`) and less than (`<` or `<=`) are intuitive.\n",
    "- You can fitler on multiple columns by adding arguments to the filter operation."
   ]
  },
  {
   "cell_type": "markdown",
   "metadata": {},
   "source": [
    "Filter the marathon data to just the runners from Kenya."
   ]
  },
  {
   "cell_type": "code",
   "execution_count": 5,
   "metadata": {
    "tags": []
   },
   "outputs": [
    {
     "data": {
      "text/html": [
       "<table class=\"dataframe\">\n",
       "<caption>A data.frame: 6 × 7</caption>\n",
       "<thead>\n",
       "\t<tr><th></th><th scope=col>year</th><th scope=col>name</th><th scope=col>country</th><th scope=col>time</th><th scope=col>race.time</th><th scope=col>MF</th><th scope=col>country.simple</th></tr>\n",
       "\t<tr><th></th><th scope=col>&lt;int&gt;</th><th scope=col>&lt;chr&gt;</th><th scope=col>&lt;chr&gt;</th><th scope=col>&lt;chr&gt;</th><th scope=col>&lt;dbl&gt;</th><th scope=col>&lt;chr&gt;</th><th scope=col>&lt;chr&gt;</th></tr>\n",
       "</thead>\n",
       "<tbody>\n",
       "\t<tr><th scope=row>1</th><td>2019</td><td>Lawrence Cherono         </td><td>Kenya</td><td>2H 7M 57S </td><td>2.132500</td><td>Men's</td><td>Kenya</td></tr>\n",
       "\t<tr><th scope=row>2</th><td>2017</td><td>Geoffrey Kirui           </td><td>Kenya</td><td>2H 9M 37S </td><td>2.160278</td><td>Men's</td><td>Kenya</td></tr>\n",
       "\t<tr><th scope=row>3</th><td>2012</td><td>Wesley Korir             </td><td>Kenya</td><td>2H 12M 40S</td><td>2.211111</td><td>Men's</td><td>Kenya</td></tr>\n",
       "\t<tr><th scope=row>4</th><td>2011</td><td>Geoffrey Mutai           </td><td>Kenya</td><td>2H 3M 2S  </td><td>2.050556</td><td>Men's</td><td>Kenya</td></tr>\n",
       "\t<tr><th scope=row>5</th><td>2010</td><td>Robert Kiprono Cheruiyot </td><td>Kenya</td><td>2H 5M 52S </td><td>2.097778</td><td>Men's</td><td>Kenya</td></tr>\n",
       "\t<tr><th scope=row>6</th><td>2008</td><td>Robert Kipkoech Cheruiyot</td><td>Kenya</td><td>2H 7M 46S </td><td>2.129444</td><td>Men's</td><td>Kenya</td></tr>\n",
       "</tbody>\n",
       "</table>\n"
      ],
      "text/latex": [
       "A data.frame: 6 × 7\n",
       "\\begin{tabular}{r|lllllll}\n",
       "  & year & name & country & time & race.time & MF & country.simple\\\\\n",
       "  & <int> & <chr> & <chr> & <chr> & <dbl> & <chr> & <chr>\\\\\n",
       "\\hline\n",
       "\t1 & 2019 & Lawrence Cherono          & Kenya & 2H 7M 57S  & 2.132500 & Men's & Kenya\\\\\n",
       "\t2 & 2017 & Geoffrey Kirui            & Kenya & 2H 9M 37S  & 2.160278 & Men's & Kenya\\\\\n",
       "\t3 & 2012 & Wesley Korir              & Kenya & 2H 12M 40S & 2.211111 & Men's & Kenya\\\\\n",
       "\t4 & 2011 & Geoffrey Mutai            & Kenya & 2H 3M 2S   & 2.050556 & Men's & Kenya\\\\\n",
       "\t5 & 2010 & Robert Kiprono Cheruiyot  & Kenya & 2H 5M 52S  & 2.097778 & Men's & Kenya\\\\\n",
       "\t6 & 2008 & Robert Kipkoech Cheruiyot & Kenya & 2H 7M 46S  & 2.129444 & Men's & Kenya\\\\\n",
       "\\end{tabular}\n"
      ],
      "text/markdown": [
       "\n",
       "A data.frame: 6 × 7\n",
       "\n",
       "| <!--/--> | year &lt;int&gt; | name &lt;chr&gt; | country &lt;chr&gt; | time &lt;chr&gt; | race.time &lt;dbl&gt; | MF &lt;chr&gt; | country.simple &lt;chr&gt; |\n",
       "|---|---|---|---|---|---|---|---|\n",
       "| 1 | 2019 | Lawrence Cherono          | Kenya | 2H 7M 57S  | 2.132500 | Men's | Kenya |\n",
       "| 2 | 2017 | Geoffrey Kirui            | Kenya | 2H 9M 37S  | 2.160278 | Men's | Kenya |\n",
       "| 3 | 2012 | Wesley Korir              | Kenya | 2H 12M 40S | 2.211111 | Men's | Kenya |\n",
       "| 4 | 2011 | Geoffrey Mutai            | Kenya | 2H 3M 2S   | 2.050556 | Men's | Kenya |\n",
       "| 5 | 2010 | Robert Kiprono Cheruiyot  | Kenya | 2H 5M 52S  | 2.097778 | Men's | Kenya |\n",
       "| 6 | 2008 | Robert Kipkoech Cheruiyot | Kenya | 2H 7M 46S  | 2.129444 | Men's | Kenya |\n",
       "\n"
      ],
      "text/plain": [
       "  year name                      country time       race.time MF   \n",
       "1 2019 Lawrence Cherono          Kenya   2H 7M 57S  2.132500  Men's\n",
       "2 2017 Geoffrey Kirui            Kenya   2H 9M 37S  2.160278  Men's\n",
       "3 2012 Wesley Korir              Kenya   2H 12M 40S 2.211111  Men's\n",
       "4 2011 Geoffrey Mutai            Kenya   2H 3M 2S   2.050556  Men's\n",
       "5 2010 Robert Kiprono Cheruiyot  Kenya   2H 5M 52S  2.097778  Men's\n",
       "6 2008 Robert Kipkoech Cheruiyot Kenya   2H 7M 46S  2.129444  Men's\n",
       "  country.simple\n",
       "1 Kenya         \n",
       "2 Kenya         \n",
       "3 Kenya         \n",
       "4 Kenya         \n",
       "5 Kenya         \n",
       "6 Kenya         "
      ]
     },
     "metadata": {},
     "output_type": "display_data"
    }
   ],
   "source": [
    "df.marathon |>\n",
    "    filter(country == 'Kenya') |>\n",
    "    head()"
   ]
  },
  {
   "cell_type": "markdown",
   "metadata": {},
   "source": [
    "# Select"
   ]
  },
  {
   "cell_type": "markdown",
   "metadata": {},
   "source": [
    "- select let's you include/exclude columns."
   ]
  },
  {
   "cell_type": "code",
   "execution_count": 6,
   "metadata": {
    "tags": []
   },
   "outputs": [
    {
     "data": {
      "text/html": [
       "<table class=\"dataframe\">\n",
       "<caption>A data.frame: 6 × 2</caption>\n",
       "<thead>\n",
       "\t<tr><th></th><th scope=col>Species</th><th scope=col>Sepal.Length</th></tr>\n",
       "\t<tr><th></th><th scope=col>&lt;fct&gt;</th><th scope=col>&lt;dbl&gt;</th></tr>\n",
       "</thead>\n",
       "<tbody>\n",
       "\t<tr><th scope=row>1</th><td>setosa</td><td>5.1</td></tr>\n",
       "\t<tr><th scope=row>2</th><td>setosa</td><td>4.9</td></tr>\n",
       "\t<tr><th scope=row>3</th><td>setosa</td><td>4.7</td></tr>\n",
       "\t<tr><th scope=row>4</th><td>setosa</td><td>4.6</td></tr>\n",
       "\t<tr><th scope=row>5</th><td>setosa</td><td>5.0</td></tr>\n",
       "\t<tr><th scope=row>6</th><td>setosa</td><td>5.4</td></tr>\n",
       "</tbody>\n",
       "</table>\n"
      ],
      "text/latex": [
       "A data.frame: 6 × 2\n",
       "\\begin{tabular}{r|ll}\n",
       "  & Species & Sepal.Length\\\\\n",
       "  & <fct> & <dbl>\\\\\n",
       "\\hline\n",
       "\t1 & setosa & 5.1\\\\\n",
       "\t2 & setosa & 4.9\\\\\n",
       "\t3 & setosa & 4.7\\\\\n",
       "\t4 & setosa & 4.6\\\\\n",
       "\t5 & setosa & 5.0\\\\\n",
       "\t6 & setosa & 5.4\\\\\n",
       "\\end{tabular}\n"
      ],
      "text/markdown": [
       "\n",
       "A data.frame: 6 × 2\n",
       "\n",
       "| <!--/--> | Species &lt;fct&gt; | Sepal.Length &lt;dbl&gt; |\n",
       "|---|---|---|\n",
       "| 1 | setosa | 5.1 |\n",
       "| 2 | setosa | 4.9 |\n",
       "| 3 | setosa | 4.7 |\n",
       "| 4 | setosa | 4.6 |\n",
       "| 5 | setosa | 5.0 |\n",
       "| 6 | setosa | 5.4 |\n",
       "\n"
      ],
      "text/plain": [
       "  Species Sepal.Length\n",
       "1 setosa  5.1         \n",
       "2 setosa  4.9         \n",
       "3 setosa  4.7         \n",
       "4 setosa  4.6         \n",
       "5 setosa  5.0         \n",
       "6 setosa  5.4         "
      ]
     },
     "metadata": {},
     "output_type": "display_data"
    }
   ],
   "source": [
    "# e.g.\n",
    "\n",
    "iris |> select(Species, Sepal.Length) |> head()"
   ]
  },
  {
   "cell_type": "markdown",
   "metadata": {},
   "source": [
    "Select just the columns that represent runner names and country from the marathon data."
   ]
  },
  {
   "cell_type": "code",
   "execution_count": 7,
   "metadata": {
    "tags": []
   },
   "outputs": [
    {
     "data": {
      "text/html": [
       "<table class=\"dataframe\">\n",
       "<caption>A data.frame: 6 × 2</caption>\n",
       "<thead>\n",
       "\t<tr><th></th><th scope=col>name</th><th scope=col>country</th></tr>\n",
       "\t<tr><th></th><th scope=col>&lt;chr&gt;</th><th scope=col>&lt;chr&gt;</th></tr>\n",
       "</thead>\n",
       "<tbody>\n",
       "\t<tr><th scope=row>1</th><td>Lawrence Cherono          </td><td>Kenya        </td></tr>\n",
       "\t<tr><th scope=row>2</th><td>Yuki Kawauchi             </td><td>Japan        </td></tr>\n",
       "\t<tr><th scope=row>3</th><td>Geoffrey Kirui            </td><td>Kenya        </td></tr>\n",
       "\t<tr><th scope=row>4</th><td>Lemi Berhanu              </td><td>Ethiopia     </td></tr>\n",
       "\t<tr><th scope=row>5</th><td>Lelisa Desisa             </td><td>Ethiopia     </td></tr>\n",
       "\t<tr><th scope=row>6</th><td>Mebrahtom \"Meb\" Keflezighi</td><td>United States</td></tr>\n",
       "</tbody>\n",
       "</table>\n"
      ],
      "text/latex": [
       "A data.frame: 6 × 2\n",
       "\\begin{tabular}{r|ll}\n",
       "  & name & country\\\\\n",
       "  & <chr> & <chr>\\\\\n",
       "\\hline\n",
       "\t1 & Lawrence Cherono           & Kenya        \\\\\n",
       "\t2 & Yuki Kawauchi              & Japan        \\\\\n",
       "\t3 & Geoffrey Kirui             & Kenya        \\\\\n",
       "\t4 & Lemi Berhanu               & Ethiopia     \\\\\n",
       "\t5 & Lelisa Desisa              & Ethiopia     \\\\\n",
       "\t6 & Mebrahtom \"Meb\" Keflezighi & United States\\\\\n",
       "\\end{tabular}\n"
      ],
      "text/markdown": [
       "\n",
       "A data.frame: 6 × 2\n",
       "\n",
       "| <!--/--> | name &lt;chr&gt; | country &lt;chr&gt; |\n",
       "|---|---|---|\n",
       "| 1 | Lawrence Cherono           | Kenya         |\n",
       "| 2 | Yuki Kawauchi              | Japan         |\n",
       "| 3 | Geoffrey Kirui             | Kenya         |\n",
       "| 4 | Lemi Berhanu               | Ethiopia      |\n",
       "| 5 | Lelisa Desisa              | Ethiopia      |\n",
       "| 6 | Mebrahtom \"Meb\" Keflezighi | United States |\n",
       "\n"
      ],
      "text/plain": [
       "  name                       country      \n",
       "1 Lawrence Cherono           Kenya        \n",
       "2 Yuki Kawauchi              Japan        \n",
       "3 Geoffrey Kirui             Kenya        \n",
       "4 Lemi Berhanu               Ethiopia     \n",
       "5 Lelisa Desisa              Ethiopia     \n",
       "6 Mebrahtom \"Meb\" Keflezighi United States"
      ]
     },
     "metadata": {},
     "output_type": "display_data"
    }
   ],
   "source": [
    "df.marathon |>\n",
    "    select(name, country) |>\n",
    "    head()"
   ]
  },
  {
   "cell_type": "markdown",
   "metadata": {},
   "source": [
    "# Putting it all together"
   ]
  },
  {
   "cell_type": "markdown",
   "metadata": {},
   "source": [
    "Use `group_by`, `filter`, and `summarize` to show the best race times for US and Kenyan women runners. (*Hint: use the `%in%` operator to filter by two values for one column*). Fill in the missing pieces below:"
   ]
  },
  {
   "cell_type": "code",
   "execution_count": 12,
   "metadata": {
    "tags": []
   },
   "outputs": [
    {
     "data": {
      "text/html": [
       "<table class=\"dataframe\">\n",
       "<caption>A tibble: 2 × 2</caption>\n",
       "<thead>\n",
       "\t<tr><th scope=col>country</th><th scope=col>best.race.time</th></tr>\n",
       "\t<tr><th scope=col>&lt;chr&gt;</th><th scope=col>&lt;chr&gt;</th></tr>\n",
       "</thead>\n",
       "<tbody>\n",
       "\t<tr><td>Kenya        </td><td>2H 20M 43S</td></tr>\n",
       "\t<tr><td>United States</td><td>2H 22M 43S</td></tr>\n",
       "</tbody>\n",
       "</table>\n"
      ],
      "text/latex": [
       "A tibble: 2 × 2\n",
       "\\begin{tabular}{ll}\n",
       " country & best.race.time\\\\\n",
       " <chr> & <chr>\\\\\n",
       "\\hline\n",
       "\t Kenya         & 2H 20M 43S\\\\\n",
       "\t United States & 2H 22M 43S\\\\\n",
       "\\end{tabular}\n"
      ],
      "text/markdown": [
       "\n",
       "A tibble: 2 × 2\n",
       "\n",
       "| country &lt;chr&gt; | best.race.time &lt;chr&gt; |\n",
       "|---|---|\n",
       "| Kenya         | 2H 20M 43S |\n",
       "| United States | 2H 22M 43S |\n",
       "\n"
      ],
      "text/plain": [
       "  country       best.race.time\n",
       "1 Kenya         2H 20M 43S    \n",
       "2 United States 2H 22M 43S    "
      ]
     },
     "metadata": {},
     "output_type": "display_data"
    }
   ],
   "source": [
    "df.marathon |>\n",
    "    filter(MF == \"Women's\", country %in% c('United States', 'Kenya')) |>\n",
    "    group_by(country) |>\n",
    "    summarize(best.race.time = min(time))"
   ]
  },
  {
   "cell_type": "markdown",
   "metadata": {},
   "source": [
    "Use `filter`, `select`, `head`, and `arrange` to show the best women's race times in the data and the country of the runners. Fill in the missing pieces below:"
   ]
  },
  {
   "cell_type": "code",
   "execution_count": 20,
   "metadata": {
    "tags": []
   },
   "outputs": [
    {
     "data": {
      "text/html": [
       "<table class=\"dataframe\">\n",
       "<caption>A data.frame: 10 × 2</caption>\n",
       "<thead>\n",
       "\t<tr><th scope=col>country</th><th scope=col>time</th></tr>\n",
       "\t<tr><th scope=col>&lt;chr&gt;</th><th scope=col>&lt;chr&gt;</th></tr>\n",
       "</thead>\n",
       "<tbody>\n",
       "\t<tr><td>Ethiopia     </td><td>2H 19M 59S</td></tr>\n",
       "\t<tr><td>Kenya        </td><td>2H 20M 43S</td></tr>\n",
       "\t<tr><td>Germany      </td><td>2H 21M 45S</td></tr>\n",
       "\t<tr><td>Kenya        </td><td>2H 21M 52S</td></tr>\n",
       "\t<tr><td>Kenya        </td><td>2H 22M 36S</td></tr>\n",
       "\t<tr><td>United States</td><td>2H 22M 43S</td></tr>\n",
       "\t<tr><td>Ethiopia     </td><td>2H 23M 21S</td></tr>\n",
       "\t<tr><td>Ethiopia     </td><td>2H 23M 25S</td></tr>\n",
       "\t<tr><td>Ethiopia     </td><td>2H 23M 31S</td></tr>\n",
       "\t<tr><td>Kenya        </td><td>2H 23M 38S</td></tr>\n",
       "</tbody>\n",
       "</table>\n"
      ],
      "text/latex": [
       "A data.frame: 10 × 2\n",
       "\\begin{tabular}{ll}\n",
       " country & time\\\\\n",
       " <chr> & <chr>\\\\\n",
       "\\hline\n",
       "\t Ethiopia      & 2H 19M 59S\\\\\n",
       "\t Kenya         & 2H 20M 43S\\\\\n",
       "\t Germany       & 2H 21M 45S\\\\\n",
       "\t Kenya         & 2H 21M 52S\\\\\n",
       "\t Kenya         & 2H 22M 36S\\\\\n",
       "\t United States & 2H 22M 43S\\\\\n",
       "\t Ethiopia      & 2H 23M 21S\\\\\n",
       "\t Ethiopia      & 2H 23M 25S\\\\\n",
       "\t Ethiopia      & 2H 23M 31S\\\\\n",
       "\t Kenya         & 2H 23M 38S\\\\\n",
       "\\end{tabular}\n"
      ],
      "text/markdown": [
       "\n",
       "A data.frame: 10 × 2\n",
       "\n",
       "| country &lt;chr&gt; | time &lt;chr&gt; |\n",
       "|---|---|\n",
       "| Ethiopia      | 2H 19M 59S |\n",
       "| Kenya         | 2H 20M 43S |\n",
       "| Germany       | 2H 21M 45S |\n",
       "| Kenya         | 2H 21M 52S |\n",
       "| Kenya         | 2H 22M 36S |\n",
       "| United States | 2H 22M 43S |\n",
       "| Ethiopia      | 2H 23M 21S |\n",
       "| Ethiopia      | 2H 23M 25S |\n",
       "| Ethiopia      | 2H 23M 31S |\n",
       "| Kenya         | 2H 23M 38S |\n",
       "\n"
      ],
      "text/plain": [
       "   country       time      \n",
       "1  Ethiopia      2H 19M 59S\n",
       "2  Kenya         2H 20M 43S\n",
       "3  Germany       2H 21M 45S\n",
       "4  Kenya         2H 21M 52S\n",
       "5  Kenya         2H 22M 36S\n",
       "6  United States 2H 22M 43S\n",
       "7  Ethiopia      2H 23M 21S\n",
       "8  Ethiopia      2H 23M 25S\n",
       "9  Ethiopia      2H 23M 31S\n",
       "10 Kenya         2H 23M 38S"
      ]
     },
     "metadata": {},
     "output_type": "display_data"
    }
   ],
   "source": [
    "df.marathon |>\n",
    "    filter(MF == \"Women's\") |>\n",
    "    select(country, time) |>\n",
    "    slice_min(order_by = time, n = 10) |>\n",
    "    arrange(time)"
   ]
  },
  {
   "cell_type": "markdown",
   "metadata": {},
   "source": [
    "What's the best race time ever for a US man?"
   ]
  },
  {
   "cell_type": "code",
   "execution_count": 16,
   "metadata": {
    "tags": []
   },
   "outputs": [
    {
     "data": {
      "text/html": [
       "<table class=\"dataframe\">\n",
       "<caption>A data.frame: 1 × 1</caption>\n",
       "<thead>\n",
       "\t<tr><th scope=col>best.race.time</th></tr>\n",
       "\t<tr><th scope=col>&lt;chr&gt;</th></tr>\n",
       "</thead>\n",
       "<tbody>\n",
       "\t<tr><td>2H 10M 13S</td></tr>\n",
       "</tbody>\n",
       "</table>\n"
      ],
      "text/latex": [
       "A data.frame: 1 × 1\n",
       "\\begin{tabular}{l}\n",
       " best.race.time\\\\\n",
       " <chr>\\\\\n",
       "\\hline\n",
       "\t 2H 10M 13S\\\\\n",
       "\\end{tabular}\n"
      ],
      "text/markdown": [
       "\n",
       "A data.frame: 1 × 1\n",
       "\n",
       "| best.race.time &lt;chr&gt; |\n",
       "|---|\n",
       "| 2H 10M 13S |\n",
       "\n"
      ],
      "text/plain": [
       "  best.race.time\n",
       "1 2H 10M 13S    "
      ]
     },
     "metadata": {},
     "output_type": "display_data"
    }
   ],
   "source": [
    "df.marathon |>\n",
    "    filter(MF == \"Men's\", country %in% c('United States')) |>\n",
    "    summarize(best.race.time = min(time))"
   ]
  },
  {
   "cell_type": "markdown",
   "metadata": {},
   "source": [
    "How does the best US men's time compare the the best race time in the data overall?"
   ]
  },
  {
   "cell_type": "code",
   "execution_count": 17,
   "metadata": {
    "tags": []
   },
   "outputs": [
    {
     "data": {
      "text/html": [
       "<table class=\"dataframe\">\n",
       "<caption>A data.frame: 1 × 1</caption>\n",
       "<thead>\n",
       "\t<tr><th scope=col>best.race.time</th></tr>\n",
       "\t<tr><th scope=col>&lt;chr&gt;</th></tr>\n",
       "</thead>\n",
       "<tbody>\n",
       "\t<tr><td>2H 10M 11S</td></tr>\n",
       "</tbody>\n",
       "</table>\n"
      ],
      "text/latex": [
       "A data.frame: 1 × 1\n",
       "\\begin{tabular}{l}\n",
       " best.race.time\\\\\n",
       " <chr>\\\\\n",
       "\\hline\n",
       "\t 2H 10M 11S\\\\\n",
       "\\end{tabular}\n"
      ],
      "text/markdown": [
       "\n",
       "A data.frame: 1 × 1\n",
       "\n",
       "| best.race.time &lt;chr&gt; |\n",
       "|---|\n",
       "| 2H 10M 11S |\n",
       "\n"
      ],
      "text/plain": [
       "  best.race.time\n",
       "1 2H 10M 11S    "
      ]
     },
     "metadata": {},
     "output_type": "display_data"
    }
   ],
   "source": [
    "df.marathon |>\n",
    "    summarize(best.race.time = min(time))"
   ]
  },
  {
   "cell_type": "markdown",
   "metadata": {},
   "source": [
    "# Bonus"
   ]
  },
  {
   "cell_type": "markdown",
   "metadata": {},
   "source": [
    "For all countries with at least 5 winners in the men's category, which country has the best median race time in the men's category? (*Hint: use the `n()` function to count the winners by country.) "
   ]
  },
  {
   "cell_type": "code",
   "execution_count": 7,
   "metadata": {},
   "outputs": [
    {
     "data": {
      "text/html": [
       "<table>\n",
       "<caption>A grouped_df: 6 × 8</caption>\n",
       "<thead>\n",
       "\t<tr><th scope=col>year</th><th scope=col>name</th><th scope=col>country</th><th scope=col>time</th><th scope=col>race.time</th><th scope=col>MF</th><th scope=col>country.simple</th><th scope=col>N.winners</th></tr>\n",
       "\t<tr><th scope=col>&lt;int&gt;</th><th scope=col>&lt;fct&gt;</th><th scope=col>&lt;fct&gt;</th><th scope=col>&lt;fct&gt;</th><th scope=col>&lt;dbl&gt;</th><th scope=col>&lt;fct&gt;</th><th scope=col>&lt;fct&gt;</th><th scope=col>&lt;int&gt;</th></tr>\n",
       "</thead>\n",
       "<tbody>\n",
       "\t<tr><td>2019</td><td>Lawrence Cherono          </td><td>Kenya        </td><td>2H 7M 57S </td><td>2.132500</td><td>Men's</td><td>Kenya        </td><td>22</td></tr>\n",
       "\t<tr><td>2018</td><td>Yuki Kawauchi             </td><td>Japan        </td><td>2H 15M 58S</td><td>2.266111</td><td>Men's</td><td>Japan        </td><td> 9</td></tr>\n",
       "\t<tr><td>2017</td><td>Geoffrey Kirui            </td><td>Kenya        </td><td>2H 9M 37S </td><td>2.160278</td><td>Men's</td><td>Kenya        </td><td>22</td></tr>\n",
       "\t<tr><td>2016</td><td>Lemi Berhanu              </td><td>Ethiopia     </td><td>2H 12M 45S</td><td>2.212500</td><td>Men's</td><td>Ethiopia     </td><td> 6</td></tr>\n",
       "\t<tr><td>2015</td><td>Lelisa Desisa             </td><td>Ethiopia     </td><td>2H 9M 17S </td><td>2.154722</td><td>Men's</td><td>Ethiopia     </td><td> 6</td></tr>\n",
       "\t<tr><td>2014</td><td>Mebrahtom \"Meb\" Keflezighi</td><td>United States</td><td>2H 8M 37S </td><td>2.143611</td><td>Men's</td><td>United States</td><td>44</td></tr>\n",
       "</tbody>\n",
       "</table>\n"
      ],
      "text/latex": [
       "A grouped_df: 6 × 8\n",
       "\\begin{tabular}{r|llllllll}\n",
       " year & name & country & time & race.time & MF & country.simple & N.winners\\\\\n",
       " <int> & <fct> & <fct> & <fct> & <dbl> & <fct> & <fct> & <int>\\\\\n",
       "\\hline\n",
       "\t 2019 & Lawrence Cherono           & Kenya         & 2H 7M 57S  & 2.132500 & Men's & Kenya         & 22\\\\\n",
       "\t 2018 & Yuki Kawauchi              & Japan         & 2H 15M 58S & 2.266111 & Men's & Japan         &  9\\\\\n",
       "\t 2017 & Geoffrey Kirui             & Kenya         & 2H 9M 37S  & 2.160278 & Men's & Kenya         & 22\\\\\n",
       "\t 2016 & Lemi Berhanu               & Ethiopia      & 2H 12M 45S & 2.212500 & Men's & Ethiopia      &  6\\\\\n",
       "\t 2015 & Lelisa Desisa              & Ethiopia      & 2H 9M 17S  & 2.154722 & Men's & Ethiopia      &  6\\\\\n",
       "\t 2014 & Mebrahtom \"Meb\" Keflezighi & United States & 2H 8M 37S  & 2.143611 & Men's & United States & 44\\\\\n",
       "\\end{tabular}\n"
      ],
      "text/markdown": [
       "\n",
       "A grouped_df: 6 × 8\n",
       "\n",
       "| year &lt;int&gt; | name &lt;fct&gt; | country &lt;fct&gt; | time &lt;fct&gt; | race.time &lt;dbl&gt; | MF &lt;fct&gt; | country.simple &lt;fct&gt; | N.winners &lt;int&gt; |\n",
       "|---|---|---|---|---|---|---|---|\n",
       "| 2019 | Lawrence Cherono           | Kenya         | 2H 7M 57S  | 2.132500 | Men's | Kenya         | 22 |\n",
       "| 2018 | Yuki Kawauchi              | Japan         | 2H 15M 58S | 2.266111 | Men's | Japan         |  9 |\n",
       "| 2017 | Geoffrey Kirui             | Kenya         | 2H 9M 37S  | 2.160278 | Men's | Kenya         | 22 |\n",
       "| 2016 | Lemi Berhanu               | Ethiopia      | 2H 12M 45S | 2.212500 | Men's | Ethiopia      |  6 |\n",
       "| 2015 | Lelisa Desisa              | Ethiopia      | 2H 9M 17S  | 2.154722 | Men's | Ethiopia      |  6 |\n",
       "| 2014 | Mebrahtom \"Meb\" Keflezighi | United States | 2H 8M 37S  | 2.143611 | Men's | United States | 44 |\n",
       "\n"
      ],
      "text/plain": [
       "  year name                       country       time       race.time MF   \n",
       "1 2019 Lawrence Cherono           Kenya         2H 7M 57S  2.132500  Men's\n",
       "2 2018 Yuki Kawauchi              Japan         2H 15M 58S 2.266111  Men's\n",
       "3 2017 Geoffrey Kirui             Kenya         2H 9M 37S  2.160278  Men's\n",
       "4 2016 Lemi Berhanu               Ethiopia      2H 12M 45S 2.212500  Men's\n",
       "5 2015 Lelisa Desisa              Ethiopia      2H 9M 17S  2.154722  Men's\n",
       "6 2014 Mebrahtom \"Meb\" Keflezighi United States 2H 8M 37S  2.143611  Men's\n",
       "  country.simple N.winners\n",
       "1 Kenya          22       \n",
       "2 Japan           9       \n",
       "3 Kenya          22       \n",
       "4 Ethiopia        6       \n",
       "5 Ethiopia        6       \n",
       "6 United States  44       "
      ]
     },
     "metadata": {},
     "output_type": "display_data"
    }
   ],
   "source": [
    "# This should get you started. It adds a column \"N.winners\" that represents the\n",
    "# total winners from the runner's country.\n",
    "\n",
    "df.marathon |>\n",
    "    filter(MF == \"Men's\") |>\n",
    "    group_by(country) |>\n",
    "    mutate(N.winners = n()) |> \n",
    "    head()"
   ]
  },
  {
   "cell_type": "code",
   "execution_count": null,
   "metadata": {},
   "outputs": [],
   "source": []
  }
 ],
 "metadata": {
  "kernelspec": {
   "display_name": "bios512:R",
   "language": "R",
   "name": "conda-env-bios512-r"
  },
  "language_info": {
   "codemirror_mode": "r",
   "file_extension": ".r",
   "mimetype": "text/x-r-source",
   "name": "R",
   "pygments_lexer": "r",
   "version": "4.3.1"
  }
 },
 "nbformat": 4,
 "nbformat_minor": 4
}
